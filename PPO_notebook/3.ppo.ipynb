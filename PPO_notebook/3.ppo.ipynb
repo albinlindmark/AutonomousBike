{
 "cells": [
  {
   "cell_type": "code",
   "execution_count": 1,
   "metadata": {},
   "outputs": [],
   "source": [
    "import math\n",
    "import random\n",
    "import time\n",
    "\n",
    "import gym\n",
    "import numpy as np\n",
    "import scipy.linalg\n",
    "\n",
    "import torch\n",
    "import torch.nn as nn\n",
    "import torch.optim as optim\n",
    "import torch.nn.functional as F\n",
    "from torch.distributions import Normal"
   ]
  },
  {
   "cell_type": "code",
   "execution_count": 2,
   "metadata": {},
   "outputs": [],
   "source": [
    "from IPython.display import clear_output\n",
    "import matplotlib.pyplot as plt\n",
    "%matplotlib inline"
   ]
  },
  {
   "cell_type": "markdown",
   "metadata": {},
   "source": [
    "<h2>Use CUDA</h2>"
   ]
  },
  {
   "cell_type": "code",
   "execution_count": 3,
   "metadata": {},
   "outputs": [],
   "source": [
    "use_cuda = torch.cuda.is_available()\n",
    "device   = torch.device(\"cuda\" if use_cuda else \"cpu\")"
   ]
  },
  {
   "cell_type": "markdown",
   "metadata": {},
   "source": [
    "<h2>Create Environments</h2>"
   ]
  },
  {
   "cell_type": "code",
   "execution_count": 4,
   "metadata": {},
   "outputs": [],
   "source": [
    "from multiprocessing_env import SubprocVecEnv\n",
    "\n",
    "num_envs = 64\n",
    "env_name = \"BikeLQR_deltaX-v0\"\n",
    "\n",
    "def make_env():\n",
    "    def _thunk():\n",
    "        env = gym.make(env_name)\n",
    "        return env\n",
    "\n",
    "    return _thunk\n",
    "\n",
    "envs = [make_env() for i in range(num_envs)]\n",
    "envs = SubprocVecEnv(envs)\n",
    "\n",
    "env = gym.make(env_name)"
   ]
  },
  {
   "cell_type": "markdown",
   "metadata": {},
   "source": [
    "<h2>Neural Network</h2>"
   ]
  },
  {
   "cell_type": "code",
   "execution_count": 5,
   "metadata": {},
   "outputs": [],
   "source": [
    "def init_weights(m):\n",
    "    if isinstance(m, nn.Linear):\n",
    "        nn.init.normal_(m.weight, mean=0., std=0.1)\n",
    "        nn.init.constant_(m.bias, 0.1)\n",
    "        \n",
    "\n",
    "class ActorCritic(nn.Module):\n",
    "    def __init__(self, num_inputs, num_outputs, hidden_size, std=0.0):\n",
    "        super(ActorCritic, self).__init__()\n",
    "        \n",
    "        self.critic = nn.Sequential(\n",
    "            nn.Linear(num_inputs, hidden_size),\n",
    "            nn.ReLU(),\n",
    "            nn.Linear(hidden_size, hidden_size),\n",
    "            nn.ReLU(),\n",
<<<<<<< HEAD
=======
    "            nn.Linear(hidden_size, hidden_size),\n",
    "            nn.ReLU(),\n",
>>>>>>> 01ce530bbc38ca793738e3ae0a461bfc5f914122
    "            nn.Linear(hidden_size, 1)\n",
    "        )\n",
    "        \n",
    "        self.actor = nn.Sequential(\n",
    "            nn.Linear(num_inputs, hidden_size),\n",
    "            nn.ReLU(),\n",
    "            nn.Linear(hidden_size, hidden_size),\n",
    "            nn.ReLU(),\n",
<<<<<<< HEAD
=======
    "            nn.Linear(hidden_size, hidden_size),\n",
    "            nn.ReLU(),\n",
>>>>>>> 01ce530bbc38ca793738e3ae0a461bfc5f914122
    "            nn.Linear(hidden_size, 1)\n",
    "        )\n",
    "        self.log_std = nn.Parameter(torch.ones(1, num_outputs) * std)\n",
    "        \n",
    "        self.apply(init_weights)\n",
    "        \n",
    "    def forward(self, x):\n",
    "        value = self.critic(x)\n",
    "        mu    = self.actor(x)\n",
    "        std   = self.log_std.exp().expand_as(mu)\n",
    "        dist  = Normal(mu, std)\n",
    "        return dist, value"
   ]
  },
  {
   "cell_type": "code",
   "execution_count": 6,
   "metadata": {},
   "outputs": [],
   "source": [
    "def plot(frame_idx, rewards):\n",
    "    clear_output(True)\n",
    "    #clear_output(False)\n",
    "    plt.figure(figsize=(20,5))\n",
    "    plt.subplot(131)\n",
    "    plt.title('update %s. reward: %s' % (frame_idx, rewards[-1]))\n",
    "    plt.plot(rewards)\n",
    "    plt.show()\n",
    "    \n",
    "def test_env(vis=False, init_state=None, nr_steps=int(1e9)):\n",
    "    if type(init_state) == np.ndarray:\n",
    "        state = env.reset(init_state=init_state)\n",
    "    else:\n",
    "        state = env.reset()\n",
    "        \n",
    "    if vis: env.render()\n",
    "    done = False\n",
    "    total_reward = 0\n",
    "    for i in range(nr_steps):\n",
    "        state = torch.FloatTensor(state).unsqueeze(0).to(device)\n",
    "        dist, _ = model(state)\n",
    "        next_state, reward, done, _ = env.step(dist.sample().cpu().numpy()[0])\n",
    "        state = next_state\n",
    "        \n",
    "        if vis:\n",
    "            time.sleep(0.1)\n",
    "            env.render() \n",
    "            \n",
    "        total_reward += reward\n",
<<<<<<< HEAD
    "        time.sleep(0.1)\n",
=======
    "        \n",
    "        if done:\n",
    "            break\n",
>>>>>>> 01ce530bbc38ca793738e3ae0a461bfc5f914122
    "    return total_reward\n",
    "\n",
    "def get_phi_sequence(state_0):\n",
    "    state = state_0.copy()\n",
    "    phi_sequence = [state[0]]\n",
    "    delta_sequence = []\n",
    "    done = False\n",
    "    while not done:\n",
    "        state = torch.FloatTensor(state).unsqueeze(0).to(device)\n",
    "        dist, _ = model(state)\n",
    "        next_state, reward, done, _ = env.step(dist.sample().cpu().numpy()[0])\n",
    "        phi_sequence.append(next_state[0])\n",
    "        delta_sequence.append(dist.sample().cpu().numpy()[0][0])\n",
    "        state = next_state.copy()\n",
    "    return phi_sequence, delta_sequence\n",
    "\n",
    "\n",
    "def parallel_test_of_env():\n",
    "    '''For faster evaluation of the model during training. Not exacly correct when reaching terminal states,\n",
    "    but that will just be an issue in the beginning, since we don't reach the terminal states after just a \n",
    "    short while of training'''\n",
    "    state = envs.reset()\n",
    "    nr_episode_loops = 2\n",
    "    max_episode_length = 100 # Change in init file for environment\n",
    "    cumulative_rewards = np.zeros((nr_episode_loops,state.shape[0]))\n",
    "    for i in range(nr_episode_loops):\n",
    "        done_old = np.zeros(state.shape[0])\n",
    "        state = envs.reset()\n",
    "        for j in range(max_episode_length):\n",
    "            state = torch.FloatTensor(state).to(device)\n",
    "            dist, value = model(state)\n",
    "\n",
    "            action = dist.sample()\n",
    "            next_state, reward, done, _ = envs.step(action.cpu().numpy())\n",
    "            cumulative_rewards[i] += reward*(1 - done)\n",
    "            state = next_state\n",
    "    return cumulative_rewards.mean()"
   ]
  },
  {
   "cell_type": "markdown",
   "metadata": {},
   "source": [
    "<h2>GAE</h2>"
   ]
  },
  {
   "cell_type": "code",
   "execution_count": 7,
   "metadata": {},
   "outputs": [],
   "source": [
    "def compute_gae(next_value, rewards, masks, values, gamma=0.99, tau=0.95):\n",
    "    values = values + [next_value]\n",
    "    gae = 0\n",
    "    returns = []\n",
    "    for step in reversed(range(len(rewards))):\n",
    "        delta = rewards[step] + gamma * values[step + 1] * masks[step] - values[step]\n",
    "        gae = delta + gamma * tau * masks[step] * gae\n",
    "        returns.insert(0, gae + values[step])\n",
    "    return returns"
   ]
  },
  {
   "cell_type": "markdown",
   "metadata": {},
   "source": [
    "<h1> Proximal Policy Optimization Algorithm</h1>\n",
    "<h2><a href=\"https://arxiv.org/abs/1707.06347\">Arxiv</a></h2>"
   ]
  },
  {
   "cell_type": "code",
   "execution_count": 8,
   "metadata": {},
   "outputs": [],
   "source": [
    "def ppo_iter(mini_batch_size, states, actions, log_probs, returns, advantage):\n",
    "    batch_size = states.size(0)\n",
    "    for _ in range(batch_size // mini_batch_size):\n",
    "        rand_ids = np.random.randint(0, batch_size, mini_batch_size)\n",
    "        yield states[rand_ids, :], actions[rand_ids, :], log_probs[rand_ids, :], returns[rand_ids, :], advantage[rand_ids, :]\n",
    "        \n",
    "        \n",
    "\n",
    "def ppo_update(ppo_epochs, mini_batch_size, states, actions, log_probs, returns, advantages, clip_param=0.2):\n",
    "    for _ in range(ppo_epochs):\n",
    "        for state, action, old_log_probs, return_, advantage in ppo_iter(mini_batch_size, states, actions, log_probs, returns, advantages):\n",
    "            dist, value = model(state)\n",
    "            entropy = dist.entropy().mean()\n",
    "            new_log_probs = dist.log_prob(action)\n",
    "\n",
    "            ratio = (new_log_probs - old_log_probs).exp()\n",
    "            surr1 = ratio * advantage\n",
    "            surr2 = torch.clamp(ratio, 1.0 - clip_param, 1.0 + clip_param) * advantage\n",
    "\n",
    "            actor_loss  = - torch.min(surr1, surr2).mean()\n",
    "            critic_loss = (return_ - value).pow(2).mean()\n",
    "\n",
    "            loss = 0.5 * critic_loss + actor_loss - 0.001 * entropy\n",
    "\n",
    "            optimizer.zero_grad()\n",
    "            loss.backward()\n",
    "            optimizer.step()"
   ]
  },
  {
   "cell_type": "code",
   "execution_count": 9,
<<<<<<< HEAD
   "metadata": {},
   "outputs": [],
   "source": [
    "# Update learning rate\n",
    "lr = 1e-3\n",
    "#lr = 5e-5"
   ]
  },
  {
   "cell_type": "code",
   "execution_count": 10,
=======
>>>>>>> 01ce530bbc38ca793738e3ae0a461bfc5f914122
   "metadata": {},
   "outputs": [],
   "source": [
    "num_inputs  = envs.observation_space.shape[0]\n",
    "num_outputs = envs.action_space.shape[0]\n",
    "\n",
    "#Hyper params:\n",
<<<<<<< HEAD
    "hidden_size      = 32\n",
=======
    "hidden_size      = 128\n",
    "#lr               = 1e-5\n",
    "lr               = 1e-6\n",
>>>>>>> 01ce530bbc38ca793738e3ae0a461bfc5f914122
    "num_steps        = 30\n",
    "mini_batch_size  = 64\n",
    "ppo_epochs       = 4\n",
    "threshold_reward = 10000000\n",
    "\n",
    "model = ActorCritic(num_inputs, num_outputs, hidden_size).to(device)\n",
    "optimizer = optim.Adam(model.parameters(), lr=lr)"
   ]
  },
  {
   "cell_type": "code",
<<<<<<< HEAD
   "execution_count": 11,
   "metadata": {},
   "outputs": [],
   "source": [
    "max_frames = int(1e6)\n",
    "frame_idx  = 0\n",
=======
   "execution_count": 10,
   "metadata": {},
   "outputs": [],
   "source": [
    "max_ppo_updates = 4000\n",
    "ppo_update_idx  = 0\n",
>>>>>>> 01ce530bbc38ca793738e3ae0a461bfc5f914122
    "test_rewards = []\n",
    "highest_test_reward = -np.inf\n",
    "highest_test_reward = 40\n"
   ]
  },
  {
   "cell_type": "code",
<<<<<<< HEAD
   "execution_count": 12,
=======
   "execution_count": 11,
>>>>>>> 01ce530bbc38ca793738e3ae0a461bfc5f914122
   "metadata": {},
   "outputs": [
    {
     "data": {
      "text/plain": [
       "<All keys matched successfully>"
      ]
     },
     "execution_count": 11,
     "metadata": {},
     "output_type": "execute_result"
    }
   ],
   "source": [
    "model.load_state_dict(torch.load('saved_networks/best_network'))"
   ]
  },
  {
   "cell_type": "code",
   "execution_count": 12,
   "metadata": {
    "scrolled": false
   },
   "outputs": [
    {
     "data": {
      "image/png": "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\n",
      "text/plain": [
       "<Figure size 1440x360 with 1 Axes>"
      ]
     },
     "metadata": {
      "needs_background": "light"
     },
     "output_type": "display_data"
    },
    {
     "name": "stdout",
     "output_type": "stream",
     "text": [
      "Rewards: [-75.01102318468241, -43.37370423224914, -13.447230753155548, -31.57652254075539, -45.410688915379914, -132.41735582799456, 7.686948042953195, 24.825413733428988, -12.302400057116381, -132.66265056128174, -21.69778576235408, -102.7341257246116, 10.45321998446775, -45.41267426357526, 57.32029907969482, -30.299753145136027, 3.3237136547080466, -74.81127075904682, 60.45755720867046, -3.0118571439537165, -123.42690161560218, -88.01445494624586, -98.71332296791452, -101.75518871027143, -98.31620462269963]\n"
     ]
    },
    {
     "ename": "KeyboardInterrupt",
     "evalue": "",
     "output_type": "error",
     "traceback": [
      "\u001b[1;31m---------------------------------------------------------------------------\u001b[0m",
      "\u001b[1;31mKeyboardInterrupt\u001b[0m                         Traceback (most recent call last)",
      "\u001b[1;32m<ipython-input-12-c3860f456df9>\u001b[0m in \u001b[0;36m<module>\u001b[1;34m\u001b[0m\n\u001b[0;32m     18\u001b[0m \u001b[1;33m\u001b[0m\u001b[0m\n\u001b[0;32m     19\u001b[0m         \u001b[0maction\u001b[0m \u001b[1;33m=\u001b[0m \u001b[0mdist\u001b[0m\u001b[1;33m.\u001b[0m\u001b[0msample\u001b[0m\u001b[1;33m(\u001b[0m\u001b[1;33m)\u001b[0m\u001b[1;33m\u001b[0m\u001b[1;33m\u001b[0m\u001b[0m\n\u001b[1;32m---> 20\u001b[1;33m         \u001b[0mnext_state\u001b[0m\u001b[1;33m,\u001b[0m \u001b[0mreward\u001b[0m\u001b[1;33m,\u001b[0m \u001b[0mdone\u001b[0m\u001b[1;33m,\u001b[0m \u001b[0m_\u001b[0m \u001b[1;33m=\u001b[0m \u001b[0menvs\u001b[0m\u001b[1;33m.\u001b[0m\u001b[0mstep\u001b[0m\u001b[1;33m(\u001b[0m\u001b[0maction\u001b[0m\u001b[1;33m.\u001b[0m\u001b[0mcpu\u001b[0m\u001b[1;33m(\u001b[0m\u001b[1;33m)\u001b[0m\u001b[1;33m.\u001b[0m\u001b[0mnumpy\u001b[0m\u001b[1;33m(\u001b[0m\u001b[1;33m)\u001b[0m\u001b[1;33m)\u001b[0m\u001b[1;33m\u001b[0m\u001b[1;33m\u001b[0m\u001b[0m\n\u001b[0m\u001b[0;32m     21\u001b[0m \u001b[1;33m\u001b[0m\u001b[0m\n\u001b[0;32m     22\u001b[0m         \u001b[0mlog_prob\u001b[0m \u001b[1;33m=\u001b[0m \u001b[0mdist\u001b[0m\u001b[1;33m.\u001b[0m\u001b[0mlog_prob\u001b[0m\u001b[1;33m(\u001b[0m\u001b[0maction\u001b[0m\u001b[1;33m)\u001b[0m\u001b[1;33m\u001b[0m\u001b[1;33m\u001b[0m\u001b[0m\n",
      "\u001b[1;32m~\\OneDrive\\Documents\\Chalmers\\ProjectCourse\\AutonomousBike\\PPO_notebook\\multiprocessing_env.py\u001b[0m in \u001b[0;36mstep\u001b[1;34m(self, actions)\u001b[0m\n\u001b[0;32m     77\u001b[0m \u001b[1;33m\u001b[0m\u001b[0m\n\u001b[0;32m     78\u001b[0m     \u001b[1;32mdef\u001b[0m \u001b[0mstep\u001b[0m\u001b[1;33m(\u001b[0m\u001b[0mself\u001b[0m\u001b[1;33m,\u001b[0m \u001b[0mactions\u001b[0m\u001b[1;33m)\u001b[0m\u001b[1;33m:\u001b[0m\u001b[1;33m\u001b[0m\u001b[1;33m\u001b[0m\u001b[0m\n\u001b[1;32m---> 79\u001b[1;33m         \u001b[0mself\u001b[0m\u001b[1;33m.\u001b[0m\u001b[0mstep_async\u001b[0m\u001b[1;33m(\u001b[0m\u001b[0mactions\u001b[0m\u001b[1;33m)\u001b[0m\u001b[1;33m\u001b[0m\u001b[1;33m\u001b[0m\u001b[0m\n\u001b[0m\u001b[0;32m     80\u001b[0m         \u001b[1;32mreturn\u001b[0m \u001b[0mself\u001b[0m\u001b[1;33m.\u001b[0m\u001b[0mstep_wait\u001b[0m\u001b[1;33m(\u001b[0m\u001b[1;33m)\u001b[0m\u001b[1;33m\u001b[0m\u001b[1;33m\u001b[0m\u001b[0m\n\u001b[0;32m     81\u001b[0m \u001b[1;33m\u001b[0m\u001b[0m\n",
      "\u001b[1;32m~\\OneDrive\\Documents\\Chalmers\\ProjectCourse\\AutonomousBike\\PPO_notebook\\multiprocessing_env.py\u001b[0m in \u001b[0;36mstep_async\u001b[1;34m(self, actions)\u001b[0m\n\u001b[0;32m    119\u001b[0m     \u001b[1;32mdef\u001b[0m \u001b[0mstep_async\u001b[0m\u001b[1;33m(\u001b[0m\u001b[0mself\u001b[0m\u001b[1;33m,\u001b[0m \u001b[0mactions\u001b[0m\u001b[1;33m)\u001b[0m\u001b[1;33m:\u001b[0m\u001b[1;33m\u001b[0m\u001b[1;33m\u001b[0m\u001b[0m\n\u001b[0;32m    120\u001b[0m         \u001b[1;32mfor\u001b[0m \u001b[0mremote\u001b[0m\u001b[1;33m,\u001b[0m \u001b[0maction\u001b[0m \u001b[1;32min\u001b[0m \u001b[0mzip\u001b[0m\u001b[1;33m(\u001b[0m\u001b[0mself\u001b[0m\u001b[1;33m.\u001b[0m\u001b[0mremotes\u001b[0m\u001b[1;33m,\u001b[0m \u001b[0mactions\u001b[0m\u001b[1;33m)\u001b[0m\u001b[1;33m:\u001b[0m\u001b[1;33m\u001b[0m\u001b[1;33m\u001b[0m\u001b[0m\n\u001b[1;32m--> 121\u001b[1;33m             \u001b[0mremote\u001b[0m\u001b[1;33m.\u001b[0m\u001b[0msend\u001b[0m\u001b[1;33m(\u001b[0m\u001b[1;33m(\u001b[0m\u001b[1;34m'step'\u001b[0m\u001b[1;33m,\u001b[0m \u001b[0maction\u001b[0m\u001b[1;33m)\u001b[0m\u001b[1;33m)\u001b[0m\u001b[1;33m\u001b[0m\u001b[1;33m\u001b[0m\u001b[0m\n\u001b[0m\u001b[0;32m    122\u001b[0m         \u001b[0mself\u001b[0m\u001b[1;33m.\u001b[0m\u001b[0mwaiting\u001b[0m \u001b[1;33m=\u001b[0m \u001b[1;32mTrue\u001b[0m\u001b[1;33m\u001b[0m\u001b[1;33m\u001b[0m\u001b[0m\n\u001b[0;32m    123\u001b[0m \u001b[1;33m\u001b[0m\u001b[0m\n",
      "\u001b[1;32m~\\Anaconda3\\lib\\multiprocessing\\connection.py\u001b[0m in \u001b[0;36msend\u001b[1;34m(self, obj)\u001b[0m\n\u001b[0;32m    204\u001b[0m         \u001b[0mself\u001b[0m\u001b[1;33m.\u001b[0m\u001b[0m_check_closed\u001b[0m\u001b[1;33m(\u001b[0m\u001b[1;33m)\u001b[0m\u001b[1;33m\u001b[0m\u001b[1;33m\u001b[0m\u001b[0m\n\u001b[0;32m    205\u001b[0m         \u001b[0mself\u001b[0m\u001b[1;33m.\u001b[0m\u001b[0m_check_writable\u001b[0m\u001b[1;33m(\u001b[0m\u001b[1;33m)\u001b[0m\u001b[1;33m\u001b[0m\u001b[1;33m\u001b[0m\u001b[0m\n\u001b[1;32m--> 206\u001b[1;33m         \u001b[0mself\u001b[0m\u001b[1;33m.\u001b[0m\u001b[0m_send_bytes\u001b[0m\u001b[1;33m(\u001b[0m\u001b[0m_ForkingPickler\u001b[0m\u001b[1;33m.\u001b[0m\u001b[0mdumps\u001b[0m\u001b[1;33m(\u001b[0m\u001b[0mobj\u001b[0m\u001b[1;33m)\u001b[0m\u001b[1;33m)\u001b[0m\u001b[1;33m\u001b[0m\u001b[1;33m\u001b[0m\u001b[0m\n\u001b[0m\u001b[0;32m    207\u001b[0m \u001b[1;33m\u001b[0m\u001b[0m\n\u001b[0;32m    208\u001b[0m     \u001b[1;32mdef\u001b[0m \u001b[0mrecv_bytes\u001b[0m\u001b[1;33m(\u001b[0m\u001b[0mself\u001b[0m\u001b[1;33m,\u001b[0m \u001b[0mmaxlength\u001b[0m\u001b[1;33m=\u001b[0m\u001b[1;32mNone\u001b[0m\u001b[1;33m)\u001b[0m\u001b[1;33m:\u001b[0m\u001b[1;33m\u001b[0m\u001b[1;33m\u001b[0m\u001b[0m\n",
      "\u001b[1;32m~\\Anaconda3\\lib\\multiprocessing\\connection.py\u001b[0m in \u001b[0;36m_send_bytes\u001b[1;34m(self, buf)\u001b[0m\n\u001b[0;32m    278\u001b[0m \u001b[1;33m\u001b[0m\u001b[0m\n\u001b[0;32m    279\u001b[0m         \u001b[1;32mdef\u001b[0m \u001b[0m_send_bytes\u001b[0m\u001b[1;33m(\u001b[0m\u001b[0mself\u001b[0m\u001b[1;33m,\u001b[0m \u001b[0mbuf\u001b[0m\u001b[1;33m)\u001b[0m\u001b[1;33m:\u001b[0m\u001b[1;33m\u001b[0m\u001b[1;33m\u001b[0m\u001b[0m\n\u001b[1;32m--> 280\u001b[1;33m             \u001b[0mov\u001b[0m\u001b[1;33m,\u001b[0m \u001b[0merr\u001b[0m \u001b[1;33m=\u001b[0m \u001b[0m_winapi\u001b[0m\u001b[1;33m.\u001b[0m\u001b[0mWriteFile\u001b[0m\u001b[1;33m(\u001b[0m\u001b[0mself\u001b[0m\u001b[1;33m.\u001b[0m\u001b[0m_handle\u001b[0m\u001b[1;33m,\u001b[0m \u001b[0mbuf\u001b[0m\u001b[1;33m,\u001b[0m \u001b[0moverlapped\u001b[0m\u001b[1;33m=\u001b[0m\u001b[1;32mTrue\u001b[0m\u001b[1;33m)\u001b[0m\u001b[1;33m\u001b[0m\u001b[1;33m\u001b[0m\u001b[0m\n\u001b[0m\u001b[0;32m    281\u001b[0m             \u001b[1;32mtry\u001b[0m\u001b[1;33m:\u001b[0m\u001b[1;33m\u001b[0m\u001b[1;33m\u001b[0m\u001b[0m\n\u001b[0;32m    282\u001b[0m                 \u001b[1;32mif\u001b[0m \u001b[0merr\u001b[0m \u001b[1;33m==\u001b[0m \u001b[0m_winapi\u001b[0m\u001b[1;33m.\u001b[0m\u001b[0mERROR_IO_PENDING\u001b[0m\u001b[1;33m:\u001b[0m\u001b[1;33m\u001b[0m\u001b[1;33m\u001b[0m\u001b[0m\n",
      "\u001b[1;31mKeyboardInterrupt\u001b[0m: "
     ]
    }
   ],
   "source": [
    "#model.load_state_dict(torch.load('saved_networks/vel5'))"
   ]
  },
  {
   "cell_type": "code",
   "execution_count": null,
   "metadata": {
    "scrolled": true
   },
   "outputs": [],
   "source": [
    "state = envs.reset()\n",
    "early_stop = False\n",
    "\n",
    "while ppo_update_idx < max_ppo_updates and not early_stop:\n",
    "\n",
    "    log_probs = []\n",
    "    values    = []\n",
    "    states    = []\n",
    "    actions   = []\n",
    "    rewards   = []\n",
    "    masks     = []\n",
    "    entropy = 0\n",
    "    state = envs.reset()\n",
    "\n",
    "    for _ in range(num_steps):\n",
    "        state = torch.FloatTensor(state).to(device)\n",
    "        dist, value = model(state)\n",
    "\n",
    "        action = dist.sample()\n",
    "        next_state, reward, done, _ = envs.step(action.cpu().numpy())\n",
    "        #print('X position:', next_state[0][3])\n",
    "\n",
    "        log_prob = dist.log_prob(action)\n",
    "        entropy += dist.entropy().mean()\n",
    "        \n",
    "        log_probs.append(log_prob)\n",
    "        values.append(value)\n",
    "        rewards.append(torch.FloatTensor(reward).unsqueeze(1).to(device))\n",
    "        masks.append(torch.FloatTensor(1 - done).unsqueeze(1).to(device))\n",
    "        \n",
    "        states.append(state)\n",
    "        actions.append(action)\n",
    "        \n",
    "        state = next_state\n",
<<<<<<< HEAD
    "        frame_idx += 1\n",
    "        \n",
    "        if frame_idx % 1000 == 0:\n",
    "            test_reward = np.mean([test_env() for _ in range(10)])\n",
    "            test_rewards.append(test_reward)\n",
    "            plot(frame_idx, test_rewards)\n",
    "            print('Rewards:', test_rewards)\n",
    "            if test_reward > threshold_reward: early_stop = True\n",
    "            if test_reward > highest_test_reward:\n",
    "                torch.save(model.state_dict(), 'saved_networks/random_vel_network_test')\n",
    "                highest_test_reward = test_reward\n",
=======
    "              \n",
>>>>>>> 01ce530bbc38ca793738e3ae0a461bfc5f914122
    "\n",
    "    next_state = torch.FloatTensor(next_state).to(device)\n",
    "    _, next_value = model(next_state)\n",
    "    returns = compute_gae(next_value, rewards, masks, values)\n",
    "\n",
    "    returns   = torch.cat(returns).detach()\n",
    "    log_probs = torch.cat(log_probs).detach()\n",
    "    values    = torch.cat(values).detach()\n",
    "    states    = torch.cat(states)\n",
    "    actions   = torch.cat(actions)\n",
    "    advantage = returns - values\n",
    "    \n",
    "    ppo_update(ppo_epochs, mini_batch_size, states, actions, log_probs, returns, advantage)\n",
    "    \n",
    "    ppo_update_idx += 1\n",
    "    if ppo_update_idx % 20 == 0:\n",
    "        test_reward = np.mean([test_env() for _ in range(100)])\n",
    "        test_rewards.append(test_reward)\n",
    "        plot(ppo_update_idx, test_rewards)\n",
    "        print('Rewards:', test_rewards)\n",
    "        if test_reward > threshold_reward: early_stop = True\n",
    "        if test_reward > highest_test_reward:\n",
    "            torch.save(model.state_dict(), 'saved_networks/best_network')\n",
    "            highest_test_reward = test_reward"
   ]
  },
  {
   "cell_type": "markdown",
   "metadata": {},
   "source": [
    "### Save and load network"
   ]
  },
  {
   "cell_type": "code",
<<<<<<< HEAD
   "execution_count": 13,
=======
   "execution_count": 10,
>>>>>>> 01ce530bbc38ca793738e3ae0a461bfc5f914122
   "metadata": {},
   "outputs": [
    {
     "data": {
      "text/plain": [
       "<All keys matched successfully>"
      ]
     },
<<<<<<< HEAD
     "execution_count": 13,
=======
     "execution_count": 10,
>>>>>>> 01ce530bbc38ca793738e3ae0a461bfc5f914122
     "metadata": {},
     "output_type": "execute_result"
    }
   ],
   "source": [
    "# Save:\n",
    "#torch.save(model.state_dict(), 'saved_networks/ppo_network')\n",
    "\n",
    "\n",
    "# Load:\n",
    "#model.load_state_dict(torch.load('saved_networks/ppo_network'))\n",
    "model.load_state_dict(torch.load('saved_networks/ppo_network_IC_uni_pm0dot5_v_0dot5_to_10_uni_3x128_nodes'))"
   ]
  },
  {
   "cell_type": "markdown",
   "metadata": {},
   "source": [
    "### Get average cumulative reward"
   ]
  },
  {
   "cell_type": "code",
   "execution_count": 16,
   "metadata": {
    "scrolled": true
   },
   "outputs": [
    {
     "name": "stdout",
     "output_type": "stream",
     "text": [
      "-374.00826731805535\n"
     ]
    }
   ],
   "source": [
<<<<<<< HEAD
    "test_reward = np.mean([test_env(True) for _ in range(5)])\n",
    "print(test_reward)\n",
    "env.close()"
=======
    "test_reward = np.mean([test_env() for _ in range(200)])\n",
    "test_reward"
>>>>>>> 01ce530bbc38ca793738e3ae0a461bfc5f914122
   ]
  },
  {
   "cell_type": "markdown",
   "metadata": {},
   "source": [
    "### Render"
   ]
  },
  {
   "cell_type": "code",
   "execution_count": 13,
   "metadata": {},
   "outputs": [],
   "source": [
    "init_state = np.array([np.deg2rad(-5), 0, 9], dtype=np.float32)\n",
    "nr_steps_to_render = 30\n",
    "test_env(vis=True, init_state=init_state, nr_steps=nr_steps_to_render)\n",
    "env.close()"
   ]
  },
  {
   "cell_type": "markdown",
   "metadata": {},
   "source": [
    "### Plot sequnce"
   ]
  },
  {
   "cell_type": "code",
   "execution_count": 11,
   "metadata": {
    "scrolled": false
   },
   "outputs": [
    {
     "data": {
      "image/png": "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\n",
      "text/plain": [
       "<Figure size 1008x576 with 2 Axes>"
      ]
     },
     "metadata": {
      "needs_background": "light"
     },
     "output_type": "display_data"
    }
   ],
   "source": [
    "init_state = np.array([np.deg2rad(5), 0, 9],dtype=np.float32)\n",
    "state_0 = env.reset(init_state=init_state)\n",
    "phi_sequence, delta_sequence = get_phi_sequence(state_0)\n",
    "\n",
    "Ts = 0.04\n",
    "#t = np.linspace(0, len(phi_sequence)*Ts, len(phi_sequence))\n",
    "t = np.arange(0, len(phi_sequence)*Ts, Ts)\n",
    "fig, axes = plt.subplots(1, 2, figsize=(14,8))\n",
    "\n",
    "axes[0].plot(t, np.rad2deg(phi_sequence), label = \"RL controller\")\n",
    "axes[0].set_xlabel('Time (s)', fontsize = 16)\n",
    "axes[0].set_ylabel(r'$\\varphi$ (degrees)', fontsize = 16)\n",
    "axes[0].set_title(r'Roll angle $\\varphi$. Speed: {:.2f} m/s'.format(state_0[2]), fontsize=16)\n",
    "axes[0].tick_params(axis=\"x\", labelsize=14)\n",
    "axes[0].tick_params(axis=\"y\", labelsize=14)\n",
    "\n",
    "\n",
    "axes[1].plot(t[1:], np.rad2deg(delta_sequence), label=\"RL controller\")\n",
    "axes[1].set_xlabel('Time (s)', fontsize = 16)\n",
    "axes[1].set_ylabel('$\\delta$ (degrees)', fontsize = 16)\n",
    "axes[1].set_title('Steering angle $\\delta$. Speed: {:.2f} m/s'.format(state_0[2]), fontsize = 16);\n",
    "axes[1].tick_params(axis=\"x\", labelsize=14)\n",
    "axes[1].tick_params(axis=\"y\", labelsize=14)\n",
    "\n",
    "# Plotting the optimal sequences as well (they come from using the K gain from the dlqr algorithm)\n",
    "from utility_functions import get_optimal_sequence\n",
    "optimal_phi_sequence, optimal_delta_sequence = get_optimal_sequence(init_state, env)\n",
    "t_optimal = np.arange(0, len(optimal_phi_sequence)*Ts, Ts)\n",
    "\n",
    "axes[0].plot(t_optimal, np.rad2deg(optimal_phi_sequence), alpha=0.7, label = \"LQR controller\")\n",
    "axes[0].legend(fontsize=14)\n",
    "axes[1].plot(t_optimal[1:], np.rad2deg(optimal_delta_sequence), alpha=0.7, label=\"LQR controller\")\n",
    "axes[1].legend(fontsize=14);"
   ]
  },
  {
   "cell_type": "markdown",
   "metadata": {},
   "source": [
    "<h1>Saving trajectories for GAIL</h1>"
   ]
  },
  {
   "cell_type": "code",
   "execution_count": 87,
   "metadata": {},
   "outputs": [
    {
     "name": "stdout",
     "output_type": "stream",
     "text": [
      "episode: 0 reward: -133.5056485070341\n",
      "episode: 1 reward: -3.3737309166625002\n",
      "episode: 2 reward: -135.0328820133956\n",
      "episode: 3 reward: -131.27964142064513\n",
      "episode: 4 reward: -125.12845453838382\n",
      "episode: 5 reward: -4.247933460422459\n",
      "episode: 6 reward: -395.59297834503883\n",
      "episode: 7 reward: -253.25736991568547\n",
      "episode: 8 reward: -135.50603026103278\n",
      "episode: 9 reward: -132.72095459732952\n",
      "episode: 10 reward: -133.89608385869212\n",
      "episode: 11 reward: -4.5990508813314035\n",
      "episode: 12 reward: -134.44470210766775\n",
      "episode: 13 reward: -801.7661346371387\n",
      "episode: 14 reward: -131.97725229377644\n",
      "episode: 15 reward: -266.76940521674015\n",
      "episode: 16 reward: -247.5062278004002\n",
      "episode: 17 reward: -4.914595620774103\n",
      "episode: 18 reward: -138.7990887577753\n",
      "episode: 19 reward: -268.3754189751262\n",
      "episode: 20 reward: -363.28764882256417\n",
      "episode: 21 reward: -128.15870842354997\n",
      "episode: 22 reward: -134.94598918501788\n",
      "episode: 23 reward: -309.9577786212293\n",
      "episode: 24 reward: -131.91670030817002\n",
      "episode: 25 reward: -134.65823444568952\n",
      "episode: 26 reward: -134.5615349098279\n",
      "episode: 27 reward: -273.5740578550409\n",
      "episode: 28 reward: -265.05553942459926\n",
      "episode: 29 reward: -258.0591054576666\n",
      "episode: 30 reward: -128.91060595426686\n",
      "episode: 31 reward: -656.2461074160591\n",
      "episode: 32 reward: -136.84071690580248\n",
      "episode: 33 reward: -259.2365200533221\n",
      "episode: 34 reward: -132.68644155022494\n",
      "episode: 35 reward: -260.66364797902054\n",
      "episode: 36 reward: -128.8211009270027\n",
      "episode: 37 reward: -384.53615237759317\n",
      "episode: 38 reward: -4.612904346743044\n",
      "episode: 39 reward: -401.1162060114804\n",
      "episode: 40 reward: -126.25334578262932\n",
      "episode: 41 reward: -3.845934927726255\n",
      "episode: 42 reward: -132.44253012402612\n",
      "episode: 43 reward: -134.1267203432647\n",
      "episode: 44 reward: -128.56866661753938\n",
      "episode: 45 reward: -4.97856955649956\n",
      "episode: 46 reward: -392.498679426522\n",
      "episode: 47 reward: -4.756869243844947\n",
      "episode: 48 reward: -4.59189846851519\n",
      "episode: 49 reward: -4.7496626929539225\n",
      "episode: 50 reward: -131.08999767991665\n",
      "episode: 51 reward: -138.17235302513578\n",
      "episode: 52 reward: -3.751761058079555\n",
      "episode: 53 reward: -260.6317126814632\n",
      "episode: 54 reward: -4.535299319594524\n",
      "episode: 55 reward: -133.70892423024802\n",
      "episode: 56 reward: -134.8732103854694\n",
      "episode: 57 reward: -5.315182694344295\n",
      "episode: 58 reward: -265.04898120165\n",
      "episode: 59 reward: -124.99288470795233\n",
      "episode: 60 reward: -4.247632479535832\n",
      "episode: 61 reward: -3.68334723705883\n",
      "episode: 62 reward: -133.617727327027\n",
      "episode: 63 reward: -136.28353948776376\n",
      "episode: 64 reward: -5.056124136459314\n",
      "episode: 65 reward: -262.7844771770983\n",
      "episode: 66 reward: -251.52420165781922\n",
      "episode: 67 reward: -133.4014820950796\n",
      "episode: 68 reward: -7.0558924646711\n",
      "episode: 69 reward: -135.41150554590206\n",
      "episode: 70 reward: -131.8871841825757\n",
      "episode: 71 reward: -130.8724972571845\n",
      "episode: 72 reward: -367.7339135957503\n",
      "episode: 73 reward: -134.25198778254116\n",
      "episode: 74 reward: -133.86858295338342\n",
      "episode: 75 reward: -378.9443227440811\n",
      "episode: 76 reward: -3.5473336732949625\n",
      "episode: 77 reward: -261.5470895641183\n",
      "episode: 78 reward: -408.34135925288217\n",
      "episode: 79 reward: -257.6727990499033\n",
      "episode: 80 reward: -399.78682205537433\n",
      "episode: 81 reward: -266.08087229456055\n",
      "episode: 82 reward: -817.186490578741\n",
      "episode: 83 reward: -4.500140134501902\n",
      "episode: 84 reward: -508.65456581456573\n",
      "episode: 85 reward: -378.46002005145874\n",
      "episode: 86 reward: -137.76181809972095\n",
      "episode: 87 reward: -674.8280917415572\n",
      "episode: 88 reward: -128.65034230393303\n",
      "episode: 89 reward: -3.922315525193146\n",
      "episode: 90 reward: -131.00005239353024\n",
      "episode: 91 reward: -130.68974732718007\n",
      "episode: 92 reward: -135.21946982972375\n",
      "episode: 93 reward: -137.3667851983452\n",
      "episode: 94 reward: -136.9119001250973\n",
      "episode: 95 reward: -254.5371556381929\n",
      "episode: 96 reward: -374.827391591992\n",
      "episode: 97 reward: -523.9964989484117\n",
      "episode: 98 reward: -133.94200200894622\n",
      "episode: 99 reward: -133.74880434577523\n",
      "episode: 100 reward: -247.32247835568552\n",
      "episode: 101 reward: -138.75528548988993\n",
      "episode: 102 reward: -4.847096453940289\n",
      "episode: 103 reward: -136.62732481247133\n",
      "episode: 104 reward: -262.20300946977864\n",
      "episode: 105 reward: -6.5435854338994\n",
      "episode: 106 reward: -125.17361036750681\n",
      "episode: 107 reward: -690.5202921080676\n",
      "episode: 108 reward: -280.53617631459497\n",
      "episode: 109 reward: -135.40352441695322\n",
      "episode: 110 reward: -131.07617970631023\n",
      "episode: 111 reward: -247.0260554601557\n",
      "episode: 112 reward: -135.40673404514774\n",
      "episode: 113 reward: -395.03306256658476\n",
      "episode: 114 reward: -384.1784417792837\n",
      "episode: 115 reward: -128.4500742980931\n",
      "episode: 116 reward: -463.6977661877445\n",
      "episode: 117 reward: -130.94801971085445\n",
      "episode: 118 reward: -144.0228791279258\n",
      "episode: 119 reward: -667.2634492717342\n",
      "episode: 120 reward: -131.79948959004724\n",
      "episode: 121 reward: -138.03140142705894\n",
      "episode: 122 reward: -129.26779443720966\n",
      "episode: 123 reward: -3.2877798185337896\n",
      "episode: 124 reward: -134.72016283865193\n",
      "episode: 125 reward: -382.2159098741087\n",
      "episode: 126 reward: -264.6491917411121\n",
      "episode: 127 reward: -134.2254720027939\n",
      "episode: 128 reward: -424.8235005744391\n",
      "episode: 129 reward: -134.52619102883028\n",
      "episode: 130 reward: -537.7406839640856\n",
      "episode: 131 reward: -133.90654715605245\n",
      "episode: 132 reward: -132.20198118805123\n",
      "episode: 133 reward: -400.3589991495165\n",
      "episode: 134 reward: -130.12695949420717\n",
      "episode: 135 reward: -290.86810229081595\n",
      "episode: 136 reward: -394.9043391522139\n",
      "episode: 137 reward: -133.42125091255778\n",
      "episode: 138 reward: -134.96306459417266\n",
      "episode: 139 reward: -3.8499366797706336\n",
      "episode: 140 reward: -3.828788719469504\n",
      "episode: 141 reward: -5.554963437941836\n",
      "episode: 142 reward: -4.510403163975261\n",
      "episode: 143 reward: -325.97799775791754\n",
      "episode: 144 reward: -3.1174779530363375\n",
      "episode: 145 reward: -134.55262416681552\n",
      "episode: 146 reward: -350.45777263184095\n",
      "episode: 147 reward: -137.33235583532627\n",
      "episode: 148 reward: -452.0061280718382\n",
      "episode: 149 reward: -265.98673902850385\n",
      "episode: 150 reward: -284.8590382363739\n",
      "episode: 151 reward: -250.06981206461143\n",
      "episode: 152 reward: -129.50428228187013\n",
      "episode: 153 reward: -393.09302439930724\n",
      "episode: 154 reward: -5.075964808667517\n",
      "episode: 155 reward: -129.83816358490287\n",
      "episode: 156 reward: -266.1020126434327\n",
      "episode: 157 reward: -132.23463644630868\n",
      "episode: 158 reward: -779.5855091317233\n",
      "episode: 159 reward: -3.763971510946643\n",
      "episode: 160 reward: -132.67794144748086\n",
      "episode: 161 reward: -662.5587064643477\n",
      "episode: 162 reward: -135.2401324340408\n",
      "episode: 163 reward: -259.9633585943629\n",
      "episode: 164 reward: -6.232862086437321\n",
      "episode: 165 reward: -139.498411973157\n",
      "episode: 166 reward: -135.35070491390638\n",
      "episode: 167 reward: -135.1400077480551\n",
      "episode: 168 reward: -347.3664683729514\n",
      "episode: 169 reward: -427.1984854733556\n",
      "episode: 170 reward: -5.15672209428849\n",
      "episode: 171 reward: -525.916662268042\n",
      "episode: 172 reward: -133.7053511504196\n",
      "episode: 173 reward: -271.26784680564384\n",
      "episode: 174 reward: -124.85474506625023\n",
      "episode: 175 reward: -134.19873581079943\n",
      "episode: 176 reward: -255.83160338962983\n",
      "episode: 177 reward: -135.13400569542506\n",
      "episode: 178 reward: -4.960226836538054\n",
      "episode: 179 reward: -139.19809065222032\n",
      "episode: 180 reward: -140.05080094044732\n",
      "episode: 181 reward: -137.76647105767526\n",
      "episode: 182 reward: -403.1731636539886\n",
      "episode: 183 reward: -257.970427512537\n",
      "episode: 184 reward: -3.7473226459331066\n",
      "episode: 185 reward: -278.3098063643893\n",
      "episode: 186 reward: -255.99692458401518\n",
      "episode: 187 reward: -4.6365121508813445\n",
      "episode: 188 reward: -244.67627722290948\n",
      "episode: 189 reward: -131.21920785362062\n",
      "episode: 190 reward: -777.3698354491825\n",
      "episode: 191 reward: -132.07220706141683\n",
      "episode: 192 reward: -392.09434598281683\n",
      "episode: 193 reward: -136.06354238422503\n",
      "episode: 194 reward: -377.4409927865957\n",
      "episode: 195 reward: -132.18253486880235\n",
      "episode: 196 reward: -129.15162595976702\n",
      "episode: 197 reward: -396.5254064840202\n",
      "episode: 198 reward: -3.610361833207753\n",
      "episode: 199 reward: -245.53736015092704\n",
      "episode: 200 reward: -270.99181854480565\n",
      "episode: 201 reward: -247.4231450110685\n",
      "episode: 202 reward: -131.59894474370887\n",
      "episode: 203 reward: -144.7898370619998\n",
      "episode: 204 reward: -926.5588068852352\n",
      "episode: 205 reward: -133.39727923189105\n",
      "episode: 206 reward: -131.93566436017008\n",
      "episode: 207 reward: -6.40529176710689\n",
      "episode: 208 reward: -257.08448208556194\n",
      "episode: 209 reward: -130.92098423630432\n",
      "episode: 210 reward: -262.2927047192545\n",
      "episode: 211 reward: -6.859901180492491\n",
      "episode: 212 reward: -262.70877767928914\n",
      "episode: 213 reward: -134.56588203218894\n",
      "episode: 214 reward: -135.22465193371625\n",
      "episode: 215 reward: -137.9657247788344\n",
      "episode: 216 reward: -135.13425433384725\n",
      "episode: 217 reward: -132.3215993693809\n",
      "episode: 218 reward: -400.611961792729\n",
      "episode: 219 reward: -401.91908212383294\n",
      "episode: 220 reward: -282.5082305011229\n",
      "episode: 221 reward: -135.42191465289923\n",
      "episode: 222 reward: -399.7881535647735\n",
      "episode: 223 reward: -131.06522770318847\n",
      "episode: 224 reward: -130.7681491912167\n",
      "episode: 225 reward: -135.31477016876133\n",
      "episode: 226 reward: -3.914901001828447\n",
      "episode: 227 reward: -134.5129393394648\n",
      "episode: 228 reward: -376.1469783238271\n",
      "episode: 229 reward: -133.09045533066046\n",
      "episode: 230 reward: -383.2750315233141\n",
      "episode: 231 reward: -263.71240275232276\n",
      "episode: 232 reward: -500.0083919266878\n",
      "episode: 233 reward: -135.22531187168758\n",
      "episode: 234 reward: -135.17818433537522\n",
      "episode: 235 reward: -395.9834332194123\n",
      "episode: 236 reward: -126.08778928679216\n",
      "episode: 237 reward: -413.7495701300203\n",
      "episode: 238 reward: -131.37116502717876\n",
      "episode: 239 reward: -121.6506938627967\n",
      "episode: 240 reward: -653.7053929625495\n",
      "episode: 241 reward: -254.87183145095838\n",
      "episode: 242 reward: -129.71331746419523\n",
      "episode: 243 reward: -265.9795936355916\n",
      "episode: 244 reward: -400.65989274385277\n",
      "episode: 245 reward: -251.82522565834446\n",
      "episode: 246 reward: -3.95924871368981\n",
      "episode: 247 reward: -312.7505665224348\n",
      "episode: 248 reward: -135.5875093701436\n",
      "episode: 249 reward: -441.6053043293015\n"
     ]
    }
   ],
   "source": [
    "from itertools import count\n",
    "\n",
    "max_expert_num = 50000\n",
    "num_steps = 0\n",
    "expert_traj = []\n",
    "\n",
    "for i_episode in count():\n",
    "    state = env.reset()\n",
    "    done = False\n",
    "    total_reward = 0\n",
    "    \n",
    "    while not done:\n",
    "        state = torch.FloatTensor(state).unsqueeze(0).to(device)\n",
    "        dist, _ = model(state)\n",
    "        action = dist.sample().cpu().numpy()[0]\n",
    "        next_state, reward, done, _ = env.step(action)\n",
    "        state = next_state\n",
    "        total_reward += reward\n",
    "        expert_traj.append(np.hstack([state, action]))\n",
    "        num_steps += 1\n",
    "    \n",
    "    print(\"episode:\", i_episode, \"reward:\", total_reward)\n",
    "    \n",
    "    if num_steps >= max_expert_num:\n",
    "        break\n",
    "        \n",
    "expert_traj = np.stack(expert_traj)\n",
    "print()\n",
    "print(expert_traj.shape)\n",
    "print()\n",
    "np.save(\"expert_traj.npy\", expert_traj)"
   ]
  }
 ],
 "metadata": {
  "kernelspec": {
   "display_name": "Python 3",
   "language": "python",
   "name": "python3"
  },
  "language_info": {
   "codemirror_mode": {
    "name": "ipython",
    "version": 3
   },
   "file_extension": ".py",
   "mimetype": "text/x-python",
   "name": "python",
   "nbconvert_exporter": "python",
   "pygments_lexer": "ipython3",
<<<<<<< HEAD
   "version": "3.7.4"
=======
   "version": "3.7.3"
>>>>>>> 01ce530bbc38ca793738e3ae0a461bfc5f914122
  }
 },
 "nbformat": 4,
 "nbformat_minor": 2
}
