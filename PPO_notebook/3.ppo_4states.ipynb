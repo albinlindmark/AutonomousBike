{
 "cells": [
  {
   "cell_type": "code",
   "execution_count": 1,
   "metadata": {},
   "outputs": [],
   "source": [
    "import math\n",
    "import random\n",
    "import time\n",
    "\n",
    "import gym\n",
    "import numpy as np\n",
    "import scipy.linalg\n",
    "\n",
    "import torch\n",
    "import torch.nn as nn\n",
    "import torch.optim as optim\n",
    "import torch.nn.functional as F\n",
    "from torch.distributions import Normal"
   ]
  },
  {
   "cell_type": "code",
   "execution_count": 2,
   "metadata": {},
   "outputs": [],
   "source": [
    "from IPython.display import clear_output\n",
    "import matplotlib.pyplot as plt\n",
    "%matplotlib inline"
   ]
  },
  {
   "cell_type": "markdown",
   "metadata": {},
   "source": [
    "<h2>Use CUDA</h2>"
   ]
  },
  {
   "cell_type": "code",
   "execution_count": 3,
   "metadata": {},
   "outputs": [],
   "source": [
    "use_cuda = torch.cuda.is_available()\n",
    "device   = torch.device(\"cuda\" if use_cuda else \"cpu\")"
   ]
  },
  {
   "cell_type": "markdown",
   "metadata": {},
   "source": [
    "<h2>Create Environments</h2>"
   ]
  },
  {
   "cell_type": "code",
   "execution_count": 4,
   "metadata": {},
   "outputs": [],
   "source": [
    "from multiprocessing_env import SubprocVecEnv\n",
    "\n",
    "num_envs = 64\n",
    "env_name = \"BikeLQR_4states-v0\"\n",
    "\n",
    "def make_env():\n",
    "    def _thunk():\n",
    "        env = gym.make(env_name)\n",
    "        return env\n",
    "\n",
    "    return _thunk\n",
    "\n",
    "envs = [make_env() for i in range(num_envs)]\n",
    "envs = SubprocVecEnv(envs)\n",
    "\n",
    "env = gym.make(env_name)"
   ]
  },
  {
   "cell_type": "markdown",
   "metadata": {},
   "source": [
    "<h2>Neural Network</h2>"
   ]
  },
  {
   "cell_type": "code",
   "execution_count": 5,
   "metadata": {},
   "outputs": [],
   "source": [
    "def init_weights(m):\n",
    "    if isinstance(m, nn.Linear):\n",
    "        nn.init.normal_(m.weight, mean=0., std=0.1)\n",
    "        nn.init.constant_(m.bias, 0.1)\n",
    "        \n",
    "\n",
    "class ActorCritic(nn.Module):\n",
    "    def __init__(self, num_inputs, num_outputs, hidden_size, std=0.0):\n",
    "        super(ActorCritic, self).__init__()\n",
    "        \n",
    "        self.critic = nn.Sequential(\n",
    "            nn.Linear(num_inputs, hidden_size),\n",
    "            nn.ReLU(),\n",
    "            nn.Linear(hidden_size, hidden_size),\n",
    "            nn.ReLU(),\n",
    "            #nn.Linear(hidden_size, hidden_size),\n",
    "            #nn.ReLU(),\n",
    "            nn.Linear(hidden_size, 1)\n",
    "        )\n",
    "        \n",
    "        self.actor = nn.Sequential(\n",
    "            nn.Linear(num_inputs, hidden_size),\n",
    "            nn.ReLU(),\n",
    "            nn.Linear(hidden_size, hidden_size),\n",
    "            nn.ReLU(),\n",
    "            #nn.Linear(hidden_size, hidden_size),\n",
    "            #nn.ReLU(),\n",
    "            nn.Linear(hidden_size, 1)\n",
    "        )\n",
    "        self.log_std = nn.Parameter(torch.ones(1, num_outputs) * std)\n",
    "        \n",
    "        self.apply(init_weights)\n",
    "        \n",
    "    def forward(self, x):\n",
    "        value = self.critic(x)\n",
    "        mu    = self.actor(x)\n",
    "        std   = self.log_std.exp().expand_as(mu)\n",
    "        dist  = Normal(mu, std)\n",
    "        return dist, value"
   ]
  },
  {
   "cell_type": "code",
   "execution_count": 6,
   "metadata": {},
   "outputs": [],
   "source": [
    "def plot(frame_idx, rewards):\n",
    "    clear_output(True)\n",
    "    #clear_output(False)\n",
    "    plt.figure(figsize=(20,5))\n",
    "    plt.subplot(131)\n",
    "    plt.title('update %s. reward: %s' % (frame_idx, rewards[-1]))\n",
    "    plt.plot(rewards)\n",
    "    plt.show()\n",
    "    \n",
    "def test_env(vis=False, init_state=None, nr_steps=int(1e9)):\n",
    "    if type(init_state) == np.ndarray:\n",
    "        state = env.reset(init_state=init_state)\n",
    "    else:\n",
    "        state = env.reset()\n",
    "        \n",
    "    if vis: env.render()\n",
    "    done = False\n",
    "    total_reward = 0\n",
    "    for i in range(nr_steps):\n",
    "        state = torch.FloatTensor(state).unsqueeze(0).to(device)\n",
    "        dist, _ = model(state)\n",
    "        next_state, reward, done, _ = env.step(dist.sample().cpu().numpy()[0])\n",
    "        state = next_state\n",
    "        \n",
    "        if vis:\n",
    "            time.sleep(0.1)\n",
    "            env.render() \n",
    "            \n",
    "        total_reward += reward\n",
    "        \n",
    "        if done:\n",
    "            break\n",
    "    return total_reward\n",
    "\n",
    "\n",
    "def test_env_with_certain_initial_conditions(nr_run_throughs=4, \n",
    "                                                              phi_ICs=[np.deg2rad(0.5), np.deg2rad(-0.5)],\n",
    "                                                              v_ICs=[0.5, 5, 10]):\n",
    "    \n",
    "    sum_of_cumulative_rewards_for_every_initial_condtition = 0\n",
    "    \n",
    "    for i in range(nr_run_throughs):\n",
    "        for v_0 in v_ICs:\n",
    "            for phi_0 in phi_ICs:\n",
    "                init_state = np.array([phi_0, 0, v_0, 0], dtype=np.float32)\n",
    "                sum_of_cumulative_rewards_for_every_initial_condtition += test_env(init_state=init_state)\n",
    "    \n",
    "    nr_of_episodes_tested = nr_run_throughs * len(phi_ICs) * len(v_ICs)\n",
    "    mean_of_cumulative_rewards_for_every_initial_condtition = 1/nr_of_episodes_tested * sum_of_cumulative_rewards_for_every_initial_condtition\n",
    "    \n",
    "    return mean_of_cumulative_rewards_for_every_initial_condtition\n",
    "\n",
    "\n",
    "def get_phi_sequence(state_0):\n",
    "    state = state_0.copy()\n",
    "    phi_sequence = [state[0]]\n",
    "    delta_sequence = []\n",
    "    v_sequence = [state[2]]\n",
    "    done = False\n",
    "    while not done:\n",
    "        state = torch.FloatTensor(state).unsqueeze(0).to(device)\n",
    "        dist, _ = model(state)\n",
    "        action = dist.sample().cpu().numpy()[0]\n",
    "        next_state, reward, done, _ = env.step(action)\n",
    "        phi_sequence.append(next_state[0])\n",
    "        delta_sequence.append(next_state[3])\n",
    "        v_sequence.append(next_state[2])\n",
    "        state = next_state.copy()\n",
    "    return phi_sequence, delta_sequence, v_sequence"
   ]
  },
  {
   "cell_type": "markdown",
   "metadata": {},
   "source": [
    "<h2>GAE</h2>"
   ]
  },
  {
   "cell_type": "code",
   "execution_count": 7,
   "metadata": {},
   "outputs": [],
   "source": [
    "def compute_gae(next_value, rewards, masks, values, gamma=0.99, tau=0.95):\n",
    "    values = values + [next_value]\n",
    "    gae = 0\n",
    "    returns = []\n",
    "    for step in reversed(range(len(rewards))):\n",
    "        delta = rewards[step] + gamma * values[step + 1] * masks[step] - values[step]\n",
    "        gae = delta + gamma * tau * masks[step] * gae\n",
    "        returns.insert(0, gae + values[step])\n",
    "    return returns"
   ]
  },
  {
   "cell_type": "markdown",
   "metadata": {},
   "source": [
    "<h1> Proximal Policy Optimization Algorithm</h1>\n",
    "<h2><a href=\"https://arxiv.org/abs/1707.06347\">Arxiv</a></h2>"
   ]
  },
  {
   "cell_type": "code",
   "execution_count": 8,
   "metadata": {},
   "outputs": [],
   "source": [
    "def ppo_iter(mini_batch_size, states, actions, log_probs, returns, advantage):\n",
    "    batch_size = states.size(0)\n",
    "    for _ in range(batch_size // mini_batch_size):\n",
    "        rand_ids = np.random.randint(0, batch_size, mini_batch_size)\n",
    "        yield states[rand_ids, :], actions[rand_ids, :], log_probs[rand_ids, :], returns[rand_ids, :], advantage[rand_ids, :]\n",
    "        \n",
    "        \n",
    "\n",
    "def ppo_update(ppo_epochs, mini_batch_size, states, actions, log_probs, returns, advantages, clip_param=0.2):\n",
    "    for _ in range(ppo_epochs):\n",
    "        for state, action, old_log_probs, return_, advantage in ppo_iter(mini_batch_size, states, actions, log_probs, returns, advantages):\n",
    "            dist, value = model(state)\n",
    "            entropy = dist.entropy().mean()\n",
    "            new_log_probs = dist.log_prob(action)\n",
    "\n",
    "            ratio = (new_log_probs - old_log_probs).exp()\n",
    "            surr1 = ratio * advantage\n",
    "            surr2 = torch.clamp(ratio, 1.0 - clip_param, 1.0 + clip_param) * advantage\n",
    "\n",
    "            actor_loss  = - torch.min(surr1, surr2).mean()\n",
    "            critic_loss = (return_ - value).pow(2).mean()\n",
    "\n",
    "            loss = 0.5 * critic_loss + actor_loss - 0.001 * entropy\n",
    "\n",
    "            optimizer.zero_grad()\n",
    "            loss.backward()\n",
    "            optimizer.step()"
   ]
  },
  {
   "cell_type": "code",
   "execution_count": 9,
   "metadata": {},
   "outputs": [],
   "source": [
    "num_inputs  = envs.observation_space.shape[0]\n",
    "num_outputs = envs.action_space.shape[0]\n",
    "\n",
    "#Hyper params:\n",
    "hidden_size      = 32\n",
    "num_steps        = 80\n",
    "mini_batch_size  = 64\n",
    "ppo_epochs       = 4\n",
    "threshold_reward = 10000000\n",
    "\n",
    "load_optimizer = False # If you have stopped the training and want to resume with the same optimizer parameters\n",
    "# List of learning rates that will be used as the network crashes:\n",
    "lr_list = [1e-3, 7e-4, 3e-4, 1e-4, 8e-5, 6e-5, 4e-5, 2e-5, 9e-6, 6e-6, 4e-6, 2e-6]\n",
    "lr_idx = 0 # Choose which lr in lr_list to start with (note that that it is the index you choose)\n",
    "lr = lr_list[lr_idx]\n",
    "# The network has to crash two times with the same learning rate, before the learning rate is changd:\n",
    "first_crash = True \n",
    "\n",
    "# If you like to change the lr according to lr_list when crashes happend. Otherwise you will have to restart and\n",
    "# reload the best model manually when a crash happens:\n",
    "changing_learning_rate = True\n",
    "if not changing_learning_rate:\n",
    "    lr = 9e-6 # If changing_learning_rate False, choose learning rate\n",
    "\n",
    "model = ActorCritic(num_inputs, num_outputs, hidden_size).to(device)\n",
    "optimizer = optim.Adam(model.parameters(), lr=lr)"
   ]
  },
  {
   "cell_type": "code",
   "execution_count": 10,
   "metadata": {},
   "outputs": [],
   "source": [
    "max_ppo_updates = 40000\n",
    "ppo_update_idx  = 0\n",
    "test_rewards = []\n",
    "highest_test_reward = -np.inf # Previous highest reward"
   ]
  },
  {
   "cell_type": "markdown",
   "metadata": {},
   "source": [
    "### Load best network with the optimizer:"
   ]
  },
  {
   "cell_type": "code",
   "execution_count": 14,
   "metadata": {},
   "outputs": [
    {
     "data": {
      "text/plain": [
       "<All keys matched successfully>"
      ]
     },
     "execution_count": 14,
     "metadata": {},
     "output_type": "execute_result"
    }
   ],
   "source": [
    "#model.load_state_dict(torch.load('saved_networks/best_network'))\n",
    "#if load_optimizer:\n",
    "#    optimizer.load_state_dict(torch.load('saved_networks/optimizer'))"
   ]
  },
  {
   "cell_type": "code",
   "execution_count": 12,
   "metadata": {},
   "outputs": [],
   "source": [
    "#optimizer.load_state_dict(torch.load('saved_networks/optimizer'))\n",
    "#model.load_state_dict(torch.load('saved_networks/ppo_network_IC_uni_pm5_v_0dot5_to_10_uni_eplen100_lr9e-6_brute_3x128_nodes_ver3'))\n",
    "#model.load_state_dict(torch.load('saved_networks/checkpoints/checkpoint_idx40_reward-240.43'))\n",
    "#model.load_state_dict(torch.load('saved_networks/ppo_network_IC_uni_pm0dot5_v_0dot5_to_10_discrete_eplen60_3x128_nodes'))"
   ]
  },
  {
   "cell_type": "code",
   "execution_count": 13,
   "metadata": {
    "scrolled": false
   },
   "outputs": [
    {
     "data": {
      "image/png": "[encoded data removed]",
      "text/plain": [
       "<Figure size 1440x360 with 1 Axes>"
      ]
     },
     "metadata": {
      "needs_background": "light"
     },
     "output_type": "display_data"
    },
    {
     "name": "stdout",
     "output_type": "stream",
     "text": [
      "Rewards: [-677.0069149556268, -548.6464601661015, -874.6786336616852, -1325.7232078158052, -540.4059347389119, -544.5824751239718, -799.6188313944207, -732.3336782798555, -833.8928635364716, -922.0522079806092, -903.3062783857314, -855.8122160732577, -799.3689389394773, -759.1820400369991, -570.8950849369278, -568.9729293443713, -560.5907415483025, -587.7566138093928, -883.6827994252849, -873.1574298644656, -792.3689389302051, -808.283792406479, -1196.0621347681558, -537.0319463798743, -537.066175018726, -533.9891382358566, -522.7115524756784, -515.3082155012928, -509.7243674928836, -509.1994619789621, -513.6497324357164, -510.87501107308617, -506.9131741371834, -505.08097078592294, -505.37954717368746, -506.91711826634577, -505.2769125010729, -756.8003199842268, -688.1040957845208, -681.0593402353063, -574.9707255869974, -546.9426825724697, -534.6335405918016, -514.0638490954641, -611.0614717336176, -569.3701376713113, -505.0086835353797, -514.0301452165546, -622.0063981764234, -519.489875602336, -774.3584907982741, -951.5201144891574, -964.298794216863, -940.9188227063779, -1240.9363522801546, -561.4571040695305, -507.40918920225386, -623.4736496617196, -626.1890894288779, -622.4223794515752, -613.7172811189848, -612.3739476181948, -564.0672292494751, -557.6220522331477, -552.003383073194, -509.6852911389793, -531.5168873495779, -631.1375018131581, -636.8205631041834, -665.975458959348, -657.5741222343496, -654.6051125978069, -638.2993793753277, -637.6064205070653, -583.4475666850251, -547.8025877320352, -532.583685903695, -524.9732948498307, -517.1849057178863, -509.44103243882506, -614.9557313842254, -726.2848520388213, -726.9493834829175, -652.3984499193524, -613.0431492157018, -648.3179957407162, -511.95040510268706, -537.1419910566269, -521.1259246052232, -736.0950868927647, -666.0918829740222, -646.2885834314458, -559.2390651676843, -550.6212538512306, -512.3872547019018, -575.7604360220034, -515.7942090455952, -545.7507569814502, -570.4042023465947, -553.9547776726617, -545.1125981875465, -593.8389602994931, -561.6407835356785, -513.186451137882, -511.0851714722677, -513.0905533562603, -516.3002607432971, -674.9577640432418, -679.5570999559792, -693.2334038115728, -702.6858406886807, -750.2825039191188, -745.2777340334972, -724.9881592442123, -682.6357594858372, -702.6275024081559, -796.262177245012, -801.5056605751191, -823.3571342329124, -822.4693233967494, -821.1458111732061, -821.1881156890565, -823.7397506182555, -817.802357003726, -818.0013907155802, -813.8866239644021, -812.4374055407579, -812.5030518196556, -812.3186658346607, -810.2337223146279, -811.4149729018978, -810.6065248057425, -810.2021955290196, -809.3870753849952, -810.9277360422054, -809.3744106590216, -807.9829887237922, -807.0940520591506, -812.1905290162683, -809.0130662444333, -811.5776465867134, -808.8655667593905, -804.9134054994363, -804.6910947603071, -807.1339454727486, -803.1019966039896, -794.7192841647001, -792.8892238909856, -787.0767776730155, -784.2230491743848, -781.6336487057719, -780.0291706853159, -774.6967315427079, -801.0297347272987, -813.5235997879588, -812.9492918621, -815.0915065005698, -813.5839476368342, -794.3421632515515, -786.9392039915624, -766.6005539696973, -836.9001053951933, -822.703249302012, -822.6149534838576, -827.8309104132139, -826.5821665978211, -822.2933344442322, -817.6434303306535, -816.0767073148178, -816.0227619377174, -819.446447789917, -813.3296925632916, -815.0425083902071, -818.1466057822446, -818.5733637455999, -818.3773269821833, -818.370131232234, -817.547414734795, -812.9669892566092, -811.6956770037741, -816.9584139831933, -818.6766392013432, -815.1392096210968, -815.1580795984943, -811.2936076216038, -808.3013569236107, -808.0408847972974, -805.9813456257514, -805.4244808200255, -797.2016353888813, -798.9898105596128, -798.2751469824393, -776.7077404250522, -770.3828419292777, -773.5464890781551, -771.0940623114581, -769.8446618353834, -767.7502723024627, -764.4997245996586, -763.877390826283, -759.6904031800734, -750.904832938552, -749.6165361716482, -744.717775798065, -730.252007825442, -716.4753429349832, -724.9095427511946, -687.408480530639, -747.4913563722735, -816.8892195347416, -770.4792412934546, -762.6496343659916, -765.1715453747348, -756.756657074499, -754.5266803026248, -800.7355488393642, -799.1736229732285, -796.2672176167234, -796.3170830349212, -843.3288852145589, -846.214838739743, -846.9749675357916, -846.1237143793417, -846.5530764392188, -841.8254198946609, -841.1395234905432, -838.3889538151042, -839.3618079110571, -796.5631446345772, -749.7437468741068, -742.8091044813154, -736.7119781105449, -714.0725029228768, -655.477797560401, -689.3504899853573, -647.0458242135913, -604.6286173557362, -566.8253882391078, -650.0083907609458, -694.5642045711597, -833.1670089266368, -810.8758307910666, -959.1817461555912, -958.6940807485227, -957.2884068315058, -956.4057464118442, -956.1057138491121, -955.9004437915754, -955.8036330022286, -955.3928908629622, -952.8734688170588, -953.9874297689971, -952.6534484771212, -948.5826273924073, -947.6283341993607, -967.3137176956286, -965.0588978970186, -965.9317792755803, -967.1160192641823, -966.653438871125, -968.4965544553237, -966.3731377944969, -964.3867533860546, -961.919435309376, -963.0803650457198, -963.3705729456229, -965.1719739621772, -966.8843705038004, -963.1318476207376, -964.5155126129342, -961.7509426717623, -959.6933439184382, -957.3020079887374, -956.8870379727471, -953.2358189175098, -955.4146459151244, -932.772538678669, -930.2609061496591, -931.0125782372147, -928.5666835631395, -913.3752831836384, -941.1296699446208, -939.2637072116906, -937.0105407909558, -938.3181466880878, -935.4793116146143, -935.3650432540463, -933.7706759637313, -932.9046389673381, -931.0987699915822, -929.7110887975577, -929.8025254173865, -933.5533731257974, -930.7414214004557, -934.103216099505, -934.2332683819373, -929.1565780432834, -928.9990027173673, -963.4971726717285, -960.6526652033684, -962.4838204167148, -960.293883429585, -942.6661317349516, -928.4977278910227, -928.2296740274376, -928.6505681024644, -904.2302134284084, -904.0267334677542, -896.7957000308622, -882.1972428321178, -872.8227636644112, -906.1023755600576, -934.9926839347439, -960.7762325413033, -960.110132009601, -950.3381369940346, -904.2887685938638, -903.5203047439346, -889.204562310984, -887.6283130197442, -863.9871157516284, -855.9896385746808, -852.9533617119793, -899.2352180194307, -900.2751303958123, -919.6151183358944, -912.3375450056025, -941.0281532287057, -962.7776998191309, -943.827154222935, -930.9452112319404, -994.677016425755, -1015.6337817202118, -1013.8387844764134, -1011.3045964534736, -1011.0548435040456, -1008.3357208032719, -1007.5471152683212, -1002.5815743033927, -1003.170324300284, -1026.2023434812838, -1026.8502676466262, -1025.9334010193531, -1018.4953281338488, -1014.4669826431123, -1015.7436418817412, -1012.7390247056612, -1012.705080551106, -1006.5965393195147, -1007.2982379777106, -1014.3863449589343, -1038.0997719196503, -1041.735644107855, -1041.5251453855096, -1039.9668263220738, -1040.1890471688116, -1028.2913661900266, -1031.6533273619698, -1029.7771362134936, -1030.5325522285802, -1033.6891123072078, -1032.5291838598996, -1030.7479797820015, -1027.1391216098623, -1018.4933581995604, -1015.198107739914, -1040.9451363517783, -1037.0116785636262, -1036.2175642122534, -1038.5942442833723, -1061.2663987964372, -1056.7338310861194, -1058.820976452263, -1058.6173025474588, -1053.378624204896, -1051.9250147376315, -1046.028311382763, -1042.611910875401, -1033.445848398441, -1029.2676063906267, -1025.6013732677973, -1012.0216963425324, -1011.2926989646771, -1034.123592786, -1055.2056097185134, -1074.1279461695237, -1051.5628163320935, -1055.3664069996726, -1059.2338861503572, -1059.628142013124, -1056.7220720257958, -1063.698734034274, -1056.4475679009163, -1048.7148553081083, -1044.8098325476255, -1056.2561240374012, -1051.572370530042, -1045.5633216034898, -1041.3301536687231, -1069.38019937821, -1057.798442557427, -1062.9949663526888, -1051.764028200432, -1042.7804692848758, -1020.2786275091022, -1019.6248788820593, -1011.3494908125896, -1005.8546915660916, -997.6167142329233, -999.5450591011833, -1081.4075368203319, -1135.70976955911, -604.0888693869551, -594.9525985342013, -590.2144339532796, -585.2897942495397, -587.7851436466117, -591.1330866076269, -585.3724468430643, -582.4346693998144, -579.7599638032577, -575.510709208865, -578.885255909649, -571.8545462234006, -564.5322159501386, -558.0923896042763, -558.4956810847038, -544.8682311237055, -547.169174388727, -542.2966007018236]"
     ]
    },
    {
     "name": "stdout",
     "output_type": "stream",
     "text": [
      "\n",
      "Current learning rate: 8e-05\n"
     ]
    },
    {
     "ename": "KeyboardInterrupt",
     "evalue": "",
     "output_type": "error",
     "traceback": [
      "\u001b[1;31m---------------------------------------------------------------------------\u001b[0m",
      "\u001b[1;31mKeyboardInterrupt\u001b[0m                         Traceback (most recent call last)",
      "\u001b[1;32m<ipython-input-13-202016633f71>\u001b[0m in \u001b[0;36m<module>\u001b[1;34m\u001b[0m\n\u001b[0;32m     45\u001b[0m     \u001b[0madvantage\u001b[0m \u001b[1;33m=\u001b[0m \u001b[0mreturns\u001b[0m \u001b[1;33m-\u001b[0m \u001b[0mvalues\u001b[0m\u001b[1;33m\u001b[0m\u001b[1;33m\u001b[0m\u001b[0m\n\u001b[0;32m     46\u001b[0m \u001b[1;33m\u001b[0m\u001b[0m\n\u001b[1;32m---> 47\u001b[1;33m     \u001b[0mppo_update\u001b[0m\u001b[1;33m(\u001b[0m\u001b[0mppo_epochs\u001b[0m\u001b[1;33m,\u001b[0m \u001b[0mmini_batch_size\u001b[0m\u001b[1;33m,\u001b[0m \u001b[0mstates\u001b[0m\u001b[1;33m,\u001b[0m \u001b[0mactions\u001b[0m\u001b[1;33m,\u001b[0m \u001b[0mlog_probs\u001b[0m\u001b[1;33m,\u001b[0m \u001b[0mreturns\u001b[0m\u001b[1;33m,\u001b[0m \u001b[0madvantage\u001b[0m\u001b[1;33m)\u001b[0m\u001b[1;33m\u001b[0m\u001b[1;33m\u001b[0m\u001b[0m\n\u001b[0m\u001b[0;32m     48\u001b[0m \u001b[1;33m\u001b[0m\u001b[0m\n\u001b[0;32m     49\u001b[0m     \u001b[0mppo_update_idx\u001b[0m \u001b[1;33m+=\u001b[0m \u001b[1;36m1\u001b[0m\u001b[1;33m\u001b[0m\u001b[1;33m\u001b[0m\u001b[0m\n",
      "\u001b[1;32m<ipython-input-8-7e55721e6f86>\u001b[0m in \u001b[0;36mppo_update\u001b[1;34m(ppo_epochs, mini_batch_size, states, actions, log_probs, returns, advantages, clip_param)\u001b[0m\n\u001b[0;32m     25\u001b[0m             \u001b[0moptimizer\u001b[0m\u001b[1;33m.\u001b[0m\u001b[0mzero_grad\u001b[0m\u001b[1;33m(\u001b[0m\u001b[1;33m)\u001b[0m\u001b[1;33m\u001b[0m\u001b[1;33m\u001b[0m\u001b[0m\n\u001b[0;32m     26\u001b[0m             \u001b[0mloss\u001b[0m\u001b[1;33m.\u001b[0m\u001b[0mbackward\u001b[0m\u001b[1;33m(\u001b[0m\u001b[1;33m)\u001b[0m\u001b[1;33m\u001b[0m\u001b[1;33m\u001b[0m\u001b[0m\n\u001b[1;32m---> 27\u001b[1;33m             \u001b[0moptimizer\u001b[0m\u001b[1;33m.\u001b[0m\u001b[0mstep\u001b[0m\u001b[1;33m(\u001b[0m\u001b[1;33m)\u001b[0m\u001b[1;33m\u001b[0m\u001b[1;33m\u001b[0m\u001b[0m\n\u001b[0m",
      "\u001b[1;32m~\\Anaconda3\\lib\\site-packages\\torch\\optim\\adam.py\u001b[0m in \u001b[0;36mstep\u001b[1;34m(self, closure)\u001b[0m\n\u001b[0;32m    105\u001b[0m                 \u001b[0mstep_size\u001b[0m \u001b[1;33m=\u001b[0m \u001b[0mgroup\u001b[0m\u001b[1;33m[\u001b[0m\u001b[1;34m'lr'\u001b[0m\u001b[1;33m]\u001b[0m \u001b[1;33m*\u001b[0m \u001b[0mmath\u001b[0m\u001b[1;33m.\u001b[0m\u001b[0msqrt\u001b[0m\u001b[1;33m(\u001b[0m\u001b[0mbias_correction2\u001b[0m\u001b[1;33m)\u001b[0m \u001b[1;33m/\u001b[0m \u001b[0mbias_correction1\u001b[0m\u001b[1;33m\u001b[0m\u001b[1;33m\u001b[0m\u001b[0m\n\u001b[0;32m    106\u001b[0m \u001b[1;33m\u001b[0m\u001b[0m\n\u001b[1;32m--> 107\u001b[1;33m                 \u001b[0mp\u001b[0m\u001b[1;33m.\u001b[0m\u001b[0mdata\u001b[0m\u001b[1;33m.\u001b[0m\u001b[0maddcdiv_\u001b[0m\u001b[1;33m(\u001b[0m\u001b[1;33m-\u001b[0m\u001b[0mstep_size\u001b[0m\u001b[1;33m,\u001b[0m \u001b[0mexp_avg\u001b[0m\u001b[1;33m,\u001b[0m \u001b[0mdenom\u001b[0m\u001b[1;33m)\u001b[0m\u001b[1;33m\u001b[0m\u001b[1;33m\u001b[0m\u001b[0m\n\u001b[0m\u001b[0;32m    108\u001b[0m \u001b[1;33m\u001b[0m\u001b[0m\n\u001b[0;32m    109\u001b[0m         \u001b[1;32mreturn\u001b[0m \u001b[0mloss\u001b[0m\u001b[1;33m\u001b[0m\u001b[1;33m\u001b[0m\u001b[0m\n",
      "\u001b[1;31mKeyboardInterrupt\u001b[0m: "
     ]
    }
   ],
   "source": [
    "state = envs.reset()\n",
    "early_stop = False\n",
    "\n",
    "while ppo_update_idx < max_ppo_updates and not early_stop:\n",
    "\n",
    "    log_probs = []\n",
    "    values    = []\n",
    "    states    = []\n",
    "    actions   = []\n",
    "    rewards   = []\n",
    "    masks     = []\n",
    "    entropy = 0\n",
    "    state = envs.reset()\n",
    "\n",
    "    for _ in range(num_steps):\n",
    "        state = torch.FloatTensor(state).to(device)\n",
    "        dist, value = model(state)\n",
    "\n",
    "        action = dist.sample()\n",
    "        next_state, reward, done, _ = envs.step(action.cpu().numpy())\n",
    "\n",
    "        log_prob = dist.log_prob(action)\n",
    "        entropy += dist.entropy().mean()\n",
    "        \n",
    "        log_probs.append(log_prob)\n",
    "        values.append(value)\n",
    "        rewards.append(torch.FloatTensor(reward).unsqueeze(1).to(device))\n",
    "        masks.append(torch.FloatTensor(1 - done).unsqueeze(1).to(device))\n",
    "        \n",
    "        states.append(state)\n",
    "        actions.append(action)\n",
    "        \n",
    "        state = next_state\n",
    "              \n",
    "\n",
    "    next_state = torch.FloatTensor(next_state).to(device)\n",
    "    _, next_value = model(next_state)\n",
    "    returns = compute_gae(next_value, rewards, masks, values)\n",
    "\n",
    "    returns   = torch.cat(returns).detach()\n",
    "    log_probs = torch.cat(log_probs).detach()\n",
    "    values    = torch.cat(values).detach()\n",
    "    states    = torch.cat(states)\n",
    "    actions   = torch.cat(actions)\n",
    "    advantage = returns - values\n",
    "    \n",
    "    ppo_update(ppo_epochs, mini_batch_size, states, actions, log_probs, returns, advantage)\n",
    "    \n",
    "    ppo_update_idx += 1\n",
    "    if ppo_update_idx % 20 == 0:\n",
    "        #test_reward = np.mean([test_env() for _ in range(64)])\n",
    "        # nr of episodes used for the test are nr_run_throughs*len(phi_ICs)*len(v_ICs):\n",
    "        test_reward = test_env_with_certain_initial_conditions(nr_run_throughs=32, \n",
    "                                                              phi_ICs=[np.deg2rad(5), -np.deg2rad(5)],\n",
    "                                                              v_ICs=[5])\n",
    "        test_rewards.append(test_reward)\n",
    "        plot(ppo_update_idx, test_rewards)\n",
    "        print('Rewards:', test_rewards)\n",
    "        print('Current learning rate:', lr)\n",
    "        if test_reward > threshold_reward: early_stop = True\n",
    "        if test_reward > highest_test_reward:\n",
    "            torch.save(model.state_dict(), 'saved_networks/best_network')\n",
    "            torch.save(optimizer.state_dict(), 'saved_networks/optimizer')\n",
    "            highest_test_reward = test_reward\n",
    "            \n",
    "        # Checkpoints are saved continously, so not just the best network is solvec:\n",
    "        torch.save(model.state_dict(), 'saved_networks/checkpoints/checkpoint_idx' + str(ppo_update_idx) + '_reward'\n",
    "                      +str(round(test_reward,2)))\n",
    "        \n",
    "        # Here is the attempt if fixing that the the best network is loaded when a crash happends, and a lower\n",
    "        # learning rate is chosen:\n",
    "        if changing_learning_rate == True:\n",
    "            # If the learning rate is high, then a crash is defined as 600 below the previously best value:\n",
    "            if lr >= 7e-5:\n",
    "                if highest_test_reward - test_reward > 600:\n",
    "                    if first_crash:\n",
    "                        model.load_state_dict(torch.load('saved_networks/best_network'))\n",
    "                        if load_optimizer:\n",
    "                            optimizer.load_state_dict(torch.load('saved_networks/optimizer'))\n",
    "                        first_crash = False\n",
    "                    else:\n",
    "                        model.load_state_dict(torch.load('saved_networks/best_network'))\n",
    "                        if load_optimizer:\n",
    "                            optimizer.load_state_dict(torch.load('saved_networks/optimizer'))\n",
    "                        lr_idx += 1\n",
    "                        lr = lr_list[np.min([lr_idx, len(lr_list)-1])]\n",
    "                        for param_group in optimizer.param_groups:\n",
    "                            param_group['lr'] = lr\n",
    "                        first_crash = True\n",
    "            # If the learning rate is lower, then a crash is defined as 250 below the previously best value:\n",
    "            elif lr >= 3e-5:\n",
    "                if highest_test_reward - test_reward > 400:\n",
    "                    if first_crash:\n",
    "                        model.load_state_dict(torch.load('saved_networks/best_network'))\n",
    "                        if load_optimizer:\n",
    "                            optimizer.load_state_dict(torch.load('saved_networks/optimizer'))\n",
    "                        first_crash = False\n",
    "                    else:\n",
    "                        model.load_state_dict(torch.load('saved_networks/best_network'))\n",
    "                        if load_optimizer:\n",
    "                            optimizer.load_state_dict(torch.load('saved_networks/optimizer'))\n",
    "                        lr_idx += 1\n",
    "                        lr = lr_list[np.min([lr_idx, len(lr_list)-1])]\n",
    "                        for param_group in optimizer.param_groups:\n",
    "                            param_group['lr'] = lr\n",
    "                        first_crash = True\n",
    "\n",
    "            # If the learning rate is low, then a crash is defined as 100 below the previously best value:\n",
    "            else:\n",
    "                if highest_test_reward - test_reward > 100:\n",
    "                    if first_crash:\n",
    "                        model.load_state_dict(torch.load('saved_networks/best_network'))\n",
    "                        if load_optimizer:\n",
    "                            optimizer.load_state_dict(torch.load('saved_networks/optimizer'))\n",
    "                        first_crash = False\n",
    "                    else:\n",
    "                        model.load_state_dict(torch.load('saved_networks/best_network'))\n",
    "                        if load_optimizer:\n",
    "                            optimizer.load_state_dict(torch.load('saved_networks/optimizer'))\n",
    "                        lr_idx += 1\n",
    "                        lr = lr_list[np.min([lr_idx, len(lr_list)-1])]\n",
    "                        for param_group in optimizer.param_groups:\n",
    "                            param_group['lr'] = lr\n",
    "                        first_crash = True\n",
    "            first_crash = False"
   ]
  },
  {
   "cell_type": "markdown",
   "metadata": {},
   "source": [
    "### Save and load network"
   ]
  },
  {
   "cell_type": "code",
   "execution_count": 11,
   "metadata": {},
   "outputs": [
    {
     "data": {
      "text/plain": [
       "<All keys matched successfully>"
      ]
     },
     "execution_count": 11,
     "metadata": {},
     "output_type": "execute_result"
    }
   ],
   "source": [
    "# Save:\n",
    "#torch.save(model.state_dict(), 'saved_networks/ppo_network')\n",
    "#torch.save(optimizer.state_dict(), 'saved_networks/optimizer')\n",
    "\n",
    "# Load:\n",
    "#model.load_state_dict(torch.load('saved_networks/ppo_network'))\n",
    "#optimizer.load_state_dict(torch.load('saved_networks/optimizer'))\n",
    "model.load_state_dict(torch.load('saved_networks/ppo_network_DZ_no_toprate_196_2x32'))\n",
    "#model.load_state_dict(torch.load('saved_networks/checkpoints/checkpoint_idx80_reward181.11'))"
   ]
  },
  {
   "cell_type": "markdown",
   "metadata": {},
   "source": [
    "### Get average cumulative reward for specified initial conditions:"
   ]
  },
  {
   "cell_type": "code",
   "execution_count": 17,
   "metadata": {},
   "outputs": [
    {
     "data": {
      "text/plain": [
       "146.1245199218605"
      ]
     },
     "execution_count": 17,
     "metadata": {},
     "output_type": "execute_result"
    }
   ],
   "source": [
    "test_env_with_certain_initial_conditions(nr_run_throughs=4, \n",
    "                                        phi_ICs=[np.deg2rad(0.5), np.deg2rad(-0.5)],\n",
    "                                        v_ICs=[0.75, 5.5, 9.5])"
   ]
  },
  {
   "cell_type": "code",
   "execution_count": 13,
   "metadata": {},
   "outputs": [
    {
     "data": {
      "text/plain": [
       "175.04892393180455"
      ]
     },
     "execution_count": 13,
     "metadata": {},
     "output_type": "execute_result"
    }
   ],
   "source": [
    "test_env_with_certain_initial_conditions(nr_run_throughs=4, \n",
    "                                        phi_ICs=[np.deg2rad(5), np.deg2rad(-5)],\n",
    "                                        v_ICs=[0.75, 5.5, 9.5])"
   ]
  },
  {
   "cell_type": "markdown",
   "metadata": {},
   "source": [
    "### Get average cumulative reward"
   ]
  },
  {
   "cell_type": "code",
   "execution_count": 15,
   "metadata": {},
   "outputs": [
    {
     "data": {
      "text/plain": [
       "-516.7441290084562"
      ]
     },
     "execution_count": 15,
     "metadata": {},
     "output_type": "execute_result"
    }
   ],
   "source": [
    "test_reward = np.mean([test_env() for _ in range(200)])\n",
    "test_reward"
   ]
  },
  {
   "cell_type": "markdown",
   "metadata": {},
   "source": [
    "### Render"
   ]
  },
  {
   "cell_type": "code",
   "execution_count": 18,
   "metadata": {},
   "outputs": [],
   "source": [
    "init_state = np.array([np.deg2rad(-5), 0, 1], dtype=np.float32)\n",
    "nr_steps_to_render = 30\n",
    "test_env(vis=True, init_state=init_state, nr_steps=nr_steps_to_render)\n",
    "env.close()"
   ]
  },
  {
   "cell_type": "markdown",
   "metadata": {},
   "source": [
    "### Plot sequnce"
   ]
  },
  {
   "cell_type": "code",
   "execution_count": 12,
   "metadata": {
    "scrolled": false
   },
   "outputs": [
    {
     "data": {
      "image/png": "[encoded data removed]",
      "text/plain": [
       "<Figure size 1008x1008 with 4 Axes>"
      ]
     },
     "metadata": {
      "needs_background": "light"
     },
     "output_type": "display_data"
    }
   ],
   "source": [
    "changing_speed = False\n",
    "init_state = np.array([np.deg2rad(5), 0, 5, 0],dtype=np.float32)\n",
    "state_0 = env.reset(init_state=init_state, changing_speed  = changing_speed)\n",
    "phi_sequence, delta_sequence, velocity = get_phi_sequence(state_0)\n",
    "\n",
    "Ts = 0.04\n",
    "t = np.arange(0, len(phi_sequence)*Ts, Ts)\n",
    "fig, axes = plt.subplots(2, 2, figsize=(14,14))\n",
    "\n",
    "\n",
    "axes[0, 0].plot(t, np.rad2deg(phi_sequence), label = \"RL controller\")\n",
    "axes[0, 0].set_xlabel('Time (s)', fontsize = 16)\n",
    "axes[0, 0].set_ylabel(r'$\\varphi$ (degrees)', fontsize = 16)\n",
    "axes[0, 0].set_title(r'Roll angle $\\varphi$. Speed: {:.2f} m/s'.format(state_0[2]), fontsize=16)\n",
    "axes[0, 0].tick_params(axis=\"x\", labelsize=14)\n",
    "axes[0, 0].tick_params(axis=\"y\", labelsize=14)\n",
    "\n",
    "\n",
    "axes[0, 1].plot(t[1:], np.rad2deg(delta_sequence), label=\"RL controller\")\n",
    "axes[0, 1].set_xlabel('Time (s)', fontsize = 16)\n",
    "axes[0, 1].set_ylabel('$\\delta$ (degrees)', fontsize = 16)\n",
    "axes[0, 1].set_title('Steering angle $\\delta$. Speed: {:.2f} m/s'.format(state_0[2]), fontsize = 16);\n",
    "axes[0, 1].tick_params(axis=\"x\", labelsize=14)\n",
    "axes[0, 1].tick_params(axis=\"y\", labelsize=14)\n",
    "\n",
    "\n",
    "axes[1, 1].plot(t, velocity)\n",
    "axes[1, 1].set_xlabel('Time (s)', fontsize = 16)\n",
    "axes[1, 1].set_ylabel('Speed (m/s)', fontsize = 16)\n",
    "axes[1, 1].set_title('Speed: {:.2f} m/s'.format(state_0[2]), fontsize = 16);\n",
    "axes[1, 1].tick_params(axis=\"x\", labelsize=14)\n",
    "axes[1, 1].tick_params(axis=\"y\", labelsize=14)\n",
    "\n",
    "axes[1, 0].plot(t[2:], np.rad2deg(np.diff(delta_sequence))/env.dt, label=\"RL controller\")\n",
    "axes[1, 0].set_xlabel('Time (s)', fontsize = 16)\n",
    "axes[1, 0].set_ylabel('$\\dot{\\delta}$ (degrees/s)', fontsize = 16)\n",
    "axes[1, 0].set_title('Steering rate. Speed: {:.2f} m/s'.format(state_0[2]), fontsize = 16);\n",
    "axes[1, 0].tick_params(axis=\"x\", labelsize=14)\n",
    "axes[1, 0].tick_params(axis=\"y\", labelsize=14)\n",
    "\n",
    "# Plotting the optimal sequences as well (they come from using the K gain from the dlqr algorithm)\n",
    "from utility_functions_4states import get_optimal_sequence\n",
    "optimal_phi_sequence, optimal_delta_sequence = get_optimal_sequence(init_state, env, changing_speed = changing_speed)\n",
    "t_optimal = np.arange(0, len(optimal_phi_sequence)*Ts, Ts)\n",
    "\n",
    "axes[0, 0].plot(t_optimal, np.rad2deg(optimal_phi_sequence), alpha=0.7, label = \"LQR controller\")\n",
    "axes[0, 0].legend(fontsize=14)\n",
    "axes[0, 1].plot(t_optimal, np.rad2deg(optimal_delta_sequence), alpha=0.7, label=\"LQR controller\")\n",
    "axes[0, 1].legend(fontsize=14);\n",
    "axes[1, 0].plot(t_optimal[1:], np.rad2deg(np.diff(optimal_delta_sequence))/env.dt, alpha=0.7, label=\"LQR controller\")\n",
    "axes[1, 0].legend(fontsize=14);"
   ]
  },
  {
   "cell_type": "markdown",
   "metadata": {},
   "source": [
    "<h1>Saving trajectories for GAIL</h1>"
   ]
  },
  {
   "cell_type": "code",
   "execution_count": 87,
   "metadata": {},
   "outputs": [
    {
     "name": "stdout",
     "output_type": "stream",
     "text": [
      "episode: 0 reward: -133.5056485070341\n",
      "episode: 1 reward: -3.3737309166625002\n",
      "episode: 2 reward: -135.0328820133956\n",
      "episode: 3 reward: -131.27964142064513\n",
      "episode: 4 reward: -125.12845453838382\n",
      "episode: 5 reward: -4.247933460422459\n",
      "episode: 6 reward: -395.59297834503883\n",
      "episode: 7 reward: -253.25736991568547\n",
      "episode: 8 reward: -135.50603026103278\n",
      "episode: 9 reward: -132.72095459732952\n",
      "episode: 10 reward: -133.89608385869212\n",
      "episode: 11 reward: -4.5990508813314035\n",
      "episode: 12 reward: -134.44470210766775\n",
      "episode: 13 reward: -801.7661346371387\n",
      "episode: 14 reward: -131.97725229377644\n",
      "episode: 15 reward: -266.76940521674015\n",
      "episode: 16 reward: -247.5062278004002\n",
      "episode: 17 reward: -4.914595620774103\n",
      "episode: 18 reward: -138.7990887577753\n",
      "episode: 19 reward: -268.3754189751262\n",
      "episode: 20 reward: -363.28764882256417\n",
      "episode: 21 reward: -128.15870842354997\n",
      "episode: 22 reward: -134.94598918501788\n",
      "episode: 23 reward: -309.9577786212293\n",
      "episode: 24 reward: -131.91670030817002\n",
      "episode: 25 reward: -134.65823444568952\n",
      "episode: 26 reward: -134.5615349098279\n",
      "episode: 27 reward: -273.5740578550409\n",
      "episode: 28 reward: -265.05553942459926\n",
      "episode: 29 reward: -258.0591054576666\n",
      "episode: 30 reward: -128.91060595426686\n",
      "episode: 31 reward: -656.2461074160591\n",
      "episode: 32 reward: -136.84071690580248\n",
      "episode: 33 reward: -259.2365200533221\n",
      "episode: 34 reward: -132.68644155022494\n",
      "episode: 35 reward: -260.66364797902054\n",
      "episode: 36 reward: -128.8211009270027\n",
      "episode: 37 reward: -384.53615237759317\n",
      "episode: 38 reward: -4.612904346743044\n",
      "episode: 39 reward: -401.1162060114804\n",
      "episode: 40 reward: -126.25334578262932\n",
      "episode: 41 reward: -3.845934927726255\n",
      "episode: 42 reward: -132.44253012402612\n",
      "episode: 43 reward: -134.1267203432647\n",
      "episode: 44 reward: -128.56866661753938\n",
      "episode: 45 reward: -4.97856955649956\n",
      "episode: 46 reward: -392.498679426522\n",
      "episode: 47 reward: -4.756869243844947\n",
      "episode: 48 reward: -4.59189846851519\n",
      "episode: 49 reward: -4.7496626929539225\n",
      "episode: 50 reward: -131.08999767991665\n",
      "episode: 51 reward: -138.17235302513578\n",
      "episode: 52 reward: -3.751761058079555\n",
      "episode: 53 reward: -260.6317126814632\n",
      "episode: 54 reward: -4.535299319594524\n",
      "episode: 55 reward: -133.70892423024802\n",
      "episode: 56 reward: -134.8732103854694\n",
      "episode: 57 reward: -5.315182694344295\n",
      "episode: 58 reward: -265.04898120165\n",
      "episode: 59 reward: -124.99288470795233\n",
      "episode: 60 reward: -4.247632479535832\n",
      "episode: 61 reward: -3.68334723705883\n",
      "episode: 62 reward: -133.617727327027\n",
      "episode: 63 reward: -136.28353948776376\n",
      "episode: 64 reward: -5.056124136459314\n",
      "episode: 65 reward: -262.7844771770983\n",
      "episode: 66 reward: -251.52420165781922\n",
      "episode: 67 reward: -133.4014820950796\n",
      "episode: 68 reward: -7.0558924646711\n",
      "episode: 69 reward: -135.41150554590206\n",
      "episode: 70 reward: -131.8871841825757\n",
      "episode: 71 reward: -130.8724972571845\n",
      "episode: 72 reward: -367.7339135957503\n",
      "episode: 73 reward: -134.25198778254116\n",
      "episode: 74 reward: -133.86858295338342\n",
      "episode: 75 reward: -378.9443227440811\n",
      "episode: 76 reward: -3.5473336732949625\n",
      "episode: 77 reward: -261.5470895641183\n",
      "episode: 78 reward: -408.34135925288217\n",
      "episode: 79 reward: -257.6727990499033\n",
      "episode: 80 reward: -399.78682205537433\n",
      "episode: 81 reward: -266.08087229456055\n",
      "episode: 82 reward: -817.186490578741\n",
      "episode: 83 reward: -4.500140134501902\n",
      "episode: 84 reward: -508.65456581456573\n",
      "episode: 85 reward: -378.46002005145874\n",
      "episode: 86 reward: -137.76181809972095\n",
      "episode: 87 reward: -674.8280917415572\n",
      "episode: 88 reward: -128.65034230393303\n",
      "episode: 89 reward: -3.922315525193146\n",
      "episode: 90 reward: -131.00005239353024\n",
      "episode: 91 reward: -130.68974732718007\n",
      "episode: 92 reward: -135.21946982972375\n",
      "episode: 93 reward: -137.3667851983452\n",
      "episode: 94 reward: -136.9119001250973\n",
      "episode: 95 reward: -254.5371556381929\n",
      "episode: 96 reward: -374.827391591992\n",
      "episode: 97 reward: -523.9964989484117\n",
      "episode: 98 reward: -133.94200200894622\n",
      "episode: 99 reward: -133.74880434577523\n",
      "episode: 100 reward: -247.32247835568552\n",
      "episode: 101 reward: -138.75528548988993\n",
      "episode: 102 reward: -4.847096453940289\n",
      "episode: 103 reward: -136.62732481247133\n",
      "episode: 104 reward: -262.20300946977864\n",
      "episode: 105 reward: -6.5435854338994\n",
      "episode: 106 reward: -125.17361036750681\n",
      "episode: 107 reward: -690.5202921080676\n",
      "episode: 108 reward: -280.53617631459497\n",
      "episode: 109 reward: -135.40352441695322\n",
      "episode: 110 reward: -131.07617970631023\n",
      "episode: 111 reward: -247.0260554601557\n",
      "episode: 112 reward: -135.40673404514774\n",
      "episode: 113 reward: -395.03306256658476\n",
      "episode: 114 reward: -384.1784417792837\n",
      "episode: 115 reward: -128.4500742980931\n",
      "episode: 116 reward: -463.6977661877445\n",
      "episode: 117 reward: -130.94801971085445\n",
      "episode: 118 reward: -144.0228791279258\n",
      "episode: 119 reward: -667.2634492717342\n",
      "episode: 120 reward: -131.79948959004724\n",
      "episode: 121 reward: -138.03140142705894\n",
      "episode: 122 reward: -129.26779443720966\n",
      "episode: 123 reward: -3.2877798185337896\n",
      "episode: 124 reward: -134.72016283865193\n",
      "episode: 125 reward: -382.2159098741087\n",
      "episode: 126 reward: -264.6491917411121\n",
      "episode: 127 reward: -134.2254720027939\n",
      "episode: 128 reward: -424.8235005744391\n",
      "episode: 129 reward: -134.52619102883028\n",
      "episode: 130 reward: -537.7406839640856\n",
      "episode: 131 reward: -133.90654715605245\n",
      "episode: 132 reward: -132.20198118805123\n",
      "episode: 133 reward: -400.3589991495165\n",
      "episode: 134 reward: -130.12695949420717\n",
      "episode: 135 reward: -290.86810229081595\n",
      "episode: 136 reward: -394.9043391522139\n",
      "episode: 137 reward: -133.42125091255778\n",
      "episode: 138 reward: -134.96306459417266\n",
      "episode: 139 reward: -3.8499366797706336\n",
      "episode: 140 reward: -3.828788719469504\n",
      "episode: 141 reward: -5.554963437941836\n",
      "episode: 142 reward: -4.510403163975261\n",
      "episode: 143 reward: -325.97799775791754\n",
      "episode: 144 reward: -3.1174779530363375\n",
      "episode: 145 reward: -134.55262416681552\n",
      "episode: 146 reward: -350.45777263184095\n",
      "episode: 147 reward: -137.33235583532627\n",
      "episode: 148 reward: -452.0061280718382\n",
      "episode: 149 reward: -265.98673902850385\n",
      "episode: 150 reward: -284.8590382363739\n",
      "episode: 151 reward: -250.06981206461143\n",
      "episode: 152 reward: -129.50428228187013\n",
      "episode: 153 reward: -393.09302439930724\n",
      "episode: 154 reward: -5.075964808667517\n",
      "episode: 155 reward: -129.83816358490287\n",
      "episode: 156 reward: -266.1020126434327\n",
      "episode: 157 reward: -132.23463644630868\n",
      "episode: 158 reward: -779.5855091317233\n",
      "episode: 159 reward: -3.763971510946643\n",
      "episode: 160 reward: -132.67794144748086\n",
      "episode: 161 reward: -662.5587064643477\n",
      "episode: 162 reward: -135.2401324340408\n",
      "episode: 163 reward: -259.9633585943629\n",
      "episode: 164 reward: -6.232862086437321\n",
      "episode: 165 reward: -139.498411973157\n",
      "episode: 166 reward: -135.35070491390638\n",
      "episode: 167 reward: -135.1400077480551\n",
      "episode: 168 reward: -347.3664683729514\n",
      "episode: 169 reward: -427.1984854733556\n",
      "episode: 170 reward: -5.15672209428849\n",
      "episode: 171 reward: -525.916662268042\n",
      "episode: 172 reward: -133.7053511504196\n",
      "episode: 173 reward: -271.26784680564384\n",
      "episode: 174 reward: -124.85474506625023\n",
      "episode: 175 reward: -134.19873581079943\n",
      "episode: 176 reward: -255.83160338962983\n",
      "episode: 177 reward: -135.13400569542506\n",
      "episode: 178 reward: -4.960226836538054\n",
      "episode: 179 reward: -139.19809065222032\n",
      "episode: 180 reward: -140.05080094044732\n",
      "episode: 181 reward: -137.76647105767526\n",
      "episode: 182 reward: -403.1731636539886\n",
      "episode: 183 reward: -257.970427512537\n",
      "episode: 184 reward: -3.7473226459331066\n",
      "episode: 185 reward: -278.3098063643893\n",
      "episode: 186 reward: -255.99692458401518\n",
      "episode: 187 reward: -4.6365121508813445\n",
      "episode: 188 reward: -244.67627722290948\n",
      "episode: 189 reward: -131.21920785362062\n",
      "episode: 190 reward: -777.3698354491825\n",
      "episode: 191 reward: -132.07220706141683\n",
      "episode: 192 reward: -392.09434598281683\n",
      "episode: 193 reward: -136.06354238422503\n",
      "episode: 194 reward: -377.4409927865957\n",
      "episode: 195 reward: -132.18253486880235\n",
      "episode: 196 reward: -129.15162595976702\n",
      "episode: 197 reward: -396.5254064840202\n",
      "episode: 198 reward: -3.610361833207753\n",
      "episode: 199 reward: -245.53736015092704\n",
      "episode: 200 reward: -270.99181854480565\n",
      "episode: 201 reward: -247.4231450110685\n",
      "episode: 202 reward: -131.59894474370887\n",
      "episode: 203 reward: -144.7898370619998\n",
      "episode: 204 reward: -926.5588068852352\n",
      "episode: 205 reward: -133.39727923189105\n",
      "episode: 206 reward: -131.93566436017008\n",
      "episode: 207 reward: -6.40529176710689\n",
      "episode: 208 reward: -257.08448208556194\n",
      "episode: 209 reward: -130.92098423630432\n",
      "episode: 210 reward: -262.2927047192545\n",
      "episode: 211 reward: -6.859901180492491\n",
      "episode: 212 reward: -262.70877767928914\n",
      "episode: 213 reward: -134.56588203218894\n",
      "episode: 214 reward: -135.22465193371625\n",
      "episode: 215 reward: -137.9657247788344\n",
      "episode: 216 reward: -135.13425433384725\n",
      "episode: 217 reward: -132.3215993693809\n",
      "episode: 218 reward: -400.611961792729\n",
      "episode: 219 reward: -401.91908212383294\n",
      "episode: 220 reward: -282.5082305011229\n",
      "episode: 221 reward: -135.42191465289923\n",
      "episode: 222 reward: -399.7881535647735\n",
      "episode: 223 reward: -131.06522770318847\n",
      "episode: 224 reward: -130.7681491912167\n",
      "episode: 225 reward: -135.31477016876133\n",
      "episode: 226 reward: -3.914901001828447\n",
      "episode: 227 reward: -134.5129393394648\n",
      "episode: 228 reward: -376.1469783238271\n",
      "episode: 229 reward: -133.09045533066046\n",
      "episode: 230 reward: -383.2750315233141\n",
      "episode: 231 reward: -263.71240275232276\n",
      "episode: 232 reward: -500.0083919266878\n",
      "episode: 233 reward: -135.22531187168758\n",
      "episode: 234 reward: -135.17818433537522\n",
      "episode: 235 reward: -395.9834332194123\n",
      "episode: 236 reward: -126.08778928679216\n",
      "episode: 237 reward: -413.7495701300203\n",
      "episode: 238 reward: -131.37116502717876\n",
      "episode: 239 reward: -121.6506938627967\n",
      "episode: 240 reward: -653.7053929625495\n",
      "episode: 241 reward: -254.87183145095838\n",
      "episode: 242 reward: -129.71331746419523\n",
      "episode: 243 reward: -265.9795936355916\n",
      "episode: 244 reward: -400.65989274385277\n",
      "episode: 245 reward: -251.82522565834446\n",
      "episode: 246 reward: -3.95924871368981\n",
      "episode: 247 reward: -312.7505665224348\n",
      "episode: 248 reward: -135.5875093701436\n",
      "episode: 249 reward: -441.6053043293015\n"
     ]
    }
   ],
   "source": [
    "from itertools import count\n",
    "\n",
    "max_expert_num = 50000\n",
    "num_steps = 0\n",
    "expert_traj = []\n",
    "\n",
    "for i_episode in count():\n",
    "    state = env.reset()\n",
    "    done = False\n",
    "    total_reward = 0\n",
    "    \n",
    "    while not done:\n",
    "        state = torch.FloatTensor(state).unsqueeze(0).to(device)\n",
    "        dist, _ = model(state)\n",
    "        action = dist.sample().cpu().numpy()[0]\n",
    "        next_state, reward, done, _ = env.step(action)\n",
    "        state = next_state\n",
    "        total_reward += reward\n",
    "        expert_traj.append(np.hstack([state, action]))\n",
    "        num_steps += 1\n",
    "    \n",
    "    print(\"episode:\", i_episode, \"reward:\", total_reward)\n",
    "    \n",
    "    if num_steps >= max_expert_num:\n",
    "        break\n",
    "        \n",
    "expert_traj = np.stack(expert_traj)\n",
    "print()\n",
    "print(expert_traj.shape)\n",
    "print()\n",
    "np.save(\"expert_traj.npy\", expert_traj)"
   ]
  }
 ],
 "metadata": {
  "kernelspec": {
   "display_name": "Python 3",
   "language": "python",
   "name": "python3"
  },
  "language_info": {
   "codemirror_mode": {
    "name": "ipython",
    "version": 3
   },
   "file_extension": ".py",
   "mimetype": "text/x-python",
   "name": "python",
   "nbconvert_exporter": "python",
   "pygments_lexer": "ipython3",
   "version": "3.7.3"
  }
 },
 "nbformat": 4,
 "nbformat_minor": 2
}
